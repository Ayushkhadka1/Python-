{
 "cells": [
  {
   "cell_type": "code",
   "execution_count": 9,
   "id": "fbc3b3e5",
   "metadata": {},
   "outputs": [
    {
     "name": "stdout",
     "output_type": "stream",
     "text": [
      "Hello World I am Ram. I am from Kathmandu . I am 45 years old.\n"
     ]
    }
   ],
   "source": [
    "class Information:\n",
    "    def __init__(self,name,age,address):\n",
    "        self.name =name\n",
    "        self.age =age\n",
    "        self.address =address\n",
    "    def info(self):\n",
    "        print(f\"Hello World I am {self.name}. I am from {self.address}. I am {self.age} years old.\")\n",
    "    \n",
    "    \n",
    "    \n",
    "obj = Information(\"Ram\",\"45\",\"Kathmandu\")\n",
    "obj.info()"
   ]
  },
  {
   "cell_type": "code",
   "execution_count": 17,
   "id": "0743f61e",
   "metadata": {},
   "outputs": [
    {
     "name": "stdout",
     "output_type": "stream",
     "text": [
      "Hello World I am Anzila. I am from Chitwan. I am suddi years old.\n"
     ]
    }
   ],
   "source": [
    "class Information:\n",
    "    def __init__(self,name,age,address):\n",
    "        self.name =name\n",
    "        self.age =age\n",
    "        self.address =address\n",
    "    def info(this):\n",
    "        print(f\"Hello World I am {this.name}. I am from {this.address}. I am {this.age} years old.\")\n",
    "        \n",
    "    \n",
    "    \n",
    "    \n",
    "obj = Information(\"Anzila\",\"suddi\",\"Chitwan\")\n",
    "obj.info()"
   ]
  },
  {
   "cell_type": "code",
   "execution_count": 21,
   "id": "41da4730",
   "metadata": {},
   "outputs": [
    {
     "name": "stdout",
     "output_type": "stream",
     "text": [
      "Hello World I am Anzila. I am from Chitwan. I am suddi years old. 9865245957\n"
     ]
    }
   ],
   "source": [
    "class Information:\n",
    "    def __init__(self,name,age,address):\n",
    "        self.name =name\n",
    "        self.age =age\n",
    "        self.address =address\n",
    "    def info(this,phone):\n",
    "        print(f\"Hello World I am {this.name}. I am from {this.address}. I am {this.age} years old. {phone}\")\n",
    "        \n",
    "    \n",
    "    \n",
    "    \n",
    "obj = Information(\"Anzila\",\"suddi\",\"Chitwan\")\n",
    "obj.info(9865245957)"
   ]
  },
  {
   "cell_type": "code",
   "execution_count": 29,
   "id": "9115b3df",
   "metadata": {},
   "outputs": [
    {
     "name": "stdout",
     "output_type": "stream",
     "text": [
      "<class 'str'>\n",
      "Anzila\n",
      "<class '__main__.Information'>\n",
      "<class 'str'>\n",
      "Anzila\n",
      "Anzila\n"
     ]
    }
   ],
   "source": [
    "class Information:\n",
    "    def __init__(self,name,age,address):\n",
    "        self.name =name\n",
    "        self.age =age\n",
    "        self.address =address\n",
    "        \n",
    "    def __str__(self):\n",
    "        return self.name\n",
    "    \n",
    "    \n",
    "    \n",
    "    def info(this):\n",
    "        return(f\"Hello World I am {this.name}. I am from {this.address}. I am {this.age} years old. \")\n",
    "        \n",
    "   \n",
    "    \n",
    "    \n",
    "obj = Information(\"Anzila\",\"suddi\",\"Chitwan\")\n",
    "print(type(obj.info()))\n",
    "print(obj)\n",
    "print(type(obj))\n",
    "print(type(str(obj)))\n",
    "print(str(obj))\n",
    "print(obj.__str__())"
   ]
  },
  {
   "cell_type": "code",
   "execution_count": null,
   "id": "fe7a519e",
   "metadata": {},
   "outputs": [],
   "source": []
  }
 ],
 "metadata": {
  "kernelspec": {
   "display_name": "Python 3 (ipykernel)",
   "language": "python",
   "name": "python3"
  },
  "language_info": {
   "codemirror_mode": {
    "name": "ipython",
    "version": 3
   },
   "file_extension": ".py",
   "mimetype": "text/x-python",
   "name": "python",
   "nbconvert_exporter": "python",
   "pygments_lexer": "ipython3",
   "version": "3.9.13"
  }
 },
 "nbformat": 4,
 "nbformat_minor": 5
}
