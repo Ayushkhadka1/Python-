{
 "cells": [
  {
   "cell_type": "code",
   "execution_count": 3,
   "id": "51189abb",
   "metadata": {},
   "outputs": [
    {
     "name": "stdout",
     "output_type": "stream",
     "text": [
      "False\n",
      "True\n",
      "False\n",
      "True\n",
      "False\n",
      "True\n"
     ]
    }
   ],
   "source": [
    "a=10\n",
    "b=3\n",
    "print(a<b)\n",
    "print(a>b)\n",
    "print(a<=b)\n",
    "print(a>=b)\n",
    "print(a==b)\n",
    "print(a!=b)"
   ]
  },
  {
   "cell_type": "code",
   "execution_count": 5,
   "id": "0348664d",
   "metadata": {},
   "outputs": [
    {
     "name": "stdout",
     "output_type": "stream",
     "text": [
      "Enter the value of a= 10\n",
      "Enter the value of b= 3\n",
      "False\n",
      "True\n",
      "False\n",
      "True\n",
      "False\n",
      "True\n"
     ]
    }
   ],
   "source": [
    "a=int(input(\"Enter the value of a= \"))\n",
    "b=int(input(\"Enter the value of b= \"))\n",
    "print(a<b)\n",
    "print(a>b)\n",
    "print(a<=b)\n",
    "print(a>=b)\n",
    "print(a==b)\n",
    "print(a!=b)"
   ]
  },
  {
   "cell_type": "code",
   "execution_count": null,
   "id": "fdb6d865",
   "metadata": {},
   "outputs": [],
   "source": [
    "#if <condition>:\n",
    "#    <operations>\n",
    "#elif <condition>:\n",
    "#    <operations>\n",
    "#......\n",
    "#else:\n",
    "#    <operations>"
   ]
  },
  {
   "cell_type": "code",
   "execution_count": null,
   "id": "b4188257",
   "metadata": {
    "scrolled": true
   },
   "outputs": [],
   "source": [
    "physics=int(input(\"Enter physics marks=\"))\n",
    "chemistry=int(input(\"Enter chemistry marks=\"))\n",
    "maths=int(input(\"Enter maths marks=\"))\n",
    "english=int(input(\"Enter english marks=\"))\n",
    "computer=int(input(\"Enter computer marks=\"))\n",
    "total=physics+chemsitry+maths+english+computer\n",
    "per=total/5\n",
    "if per >= 80:\n",
    "    print(\"your garde is A\")\n",
    "elif per >= 60:\n",
    "    print(\"your garde is B\")\n",
    "elif per >= 55:\n",
    "    print(\"your garde is C\")\n",
    "elif per >=40 :\n",
    "    print(\"fail\")"
   ]
  },
  {
   "cell_type": "code",
   "execution_count": null,
   "id": "72b9c47f",
   "metadata": {},
   "outputs": [],
   "source": [
    "physics=int(input(\"Enter physics marks=\"))\n",
    "chemistry=int(input(\"Enter chemistry marks=\"))\n",
    "maths=int(input(\"Enter maths marks=\"))\n",
    "english=int(input(\"Enter english marks=\"))\n",
    "computer=int(input(\"Enter computer marks=\"))\n",
    "total=physics+chemsitry+maths+english+computer\n",
    "per=total/5\n",
    "if physics >=32 and chemistry >=32 and maths >=32 and english >=32 and computer >=32:\n",
    "    if per >= 80:\n",
    "        print(\"your garde is A\")\n",
    "    elif per >= 60:\n",
    "        print(\"your garde is B\")\n",
    "    elif per >= 55:\n",
    "        print(\"your garde is C\")\n",
    "else:\n",
    "    print(\"fail\")"
   ]
  },
  {
   "cell_type": "code",
   "execution_count": null,
   "id": "47f32d55",
   "metadata": {},
   "outputs": [],
   "source": [
    "a=int(input(\"Enter a=\"))\n",
    "b=int(input(\"Enter b=\"))\n",
    "o=input(\"Enter + - * / \")\n",
    "if o=='+':\n",
    "    print(a+b)\n",
    "elif 0=='-':\n",
    "    print(a-b)\n",
    "elif o=='*':\n",
    "    print(a*b)\n",
    "elif (o=='/') and (b!=0):\n",
    "    print(\"the value of b cannot be zero\")\n",
    "else:\n",
    "    print(\"enter the valid operator\")"
   ]
  },
  {
   "cell_type": "code",
   "execution_count": null,
   "id": "7e832d6c",
   "metadata": {},
   "outputs": [],
   "source": [
    "# Nested if\n",
    "# if <condition>:\n",
    "#     if<condition>:\n",
    "#         <operations>\n",
    "# else:\n",
    "#     <operations>\n",
    "    "
   ]
  }
 ],
 "metadata": {
  "kernelspec": {
   "display_name": "Python 3 (ipykernel)",
   "language": "python",
   "name": "python3"
  },
  "language_info": {
   "codemirror_mode": {
    "name": "ipython",
    "version": 3
   },
   "file_extension": ".py",
   "mimetype": "text/x-python",
   "name": "python",
   "nbconvert_exporter": "python",
   "pygments_lexer": "ipython3",
   "version": "3.9.13"
  }
 },
 "nbformat": 4,
 "nbformat_minor": 5
}
