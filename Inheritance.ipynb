{
 "cells": [
  {
   "cell_type": "code",
   "execution_count": 1,
   "id": "624fa77f",
   "metadata": {},
   "outputs": [],
   "source": [
    "# class A:\n",
    "#     pass\n",
    "# class B(A):\n",
    "#     pass\n",
    "\n",
    "# obj = B()\n"
   ]
  },
  {
   "cell_type": "code",
   "execution_count": 8,
   "id": "49b5488b",
   "metadata": {},
   "outputs": [
    {
     "name": "stdout",
     "output_type": "stream",
     "text": [
      "Enter name = anzila\n",
      "Enter age = 55\n",
      "Hello World I am anzila and I am 55 years old.\n",
      "anzila 55\n"
     ]
    }
   ],
   "source": [
    "class Data:                                      #parent\n",
    "    def __init__(self):\n",
    "        self.name = input(\"Enter name = \")\n",
    "        self.age = int(input(\"Enter age = \"))\n",
    "    \n",
    "    \n",
    "class Info(Data):                              #child\n",
    "    def info(self):\n",
    "        print(f\"Hello World I am {self.name} and I am {self.age} years old.\")\n",
    "        \n",
    "obj = Info()\n",
    "obj.info()\n",
    "print(obj.name,obj.age)\n",
    "\n",
    "    "
   ]
  },
  {
   "cell_type": "code",
   "execution_count": 9,
   "id": "2058a58f",
   "metadata": {},
   "outputs": [
    {
     "name": "stdout",
     "output_type": "stream",
     "text": [
      "Enter name = ayush\n",
      "Enter age = 22\n",
      "Hello World I am ayush and I am 22 years old.\n",
      "ayush 22\n"
     ]
    }
   ],
   "source": [
    "class Data:                                      #parent\n",
    "    def __init__(self,name,age):\n",
    "        self.name = name\n",
    "        self.age = age\n",
    "    \n",
    "class Info(Data):                              #child\n",
    "    def info(self):\n",
    "        print(f\"Hello World I am {self.name} and I am {self.age} years old.\")\n",
    "\n",
    "        \n",
    "        \n",
    "name = input(\"Enter name = \")\n",
    "age = int(input(\"Enter age = \"))\n",
    "            \n",
    "        \n",
    "        \n",
    "obj = Info(name,age)\n",
    "obj.info()\n",
    "print(obj.name,obj.age)\n",
    "\n",
    "    "
   ]
  },
  {
   "cell_type": "code",
   "execution_count": 11,
   "id": "d2dd65d9",
   "metadata": {},
   "outputs": [
    {
     "name": "stdout",
     "output_type": "stream",
     "text": [
      "Enter name = l\n",
      "Enter age = 22\n",
      "Enter phone = 9865000444\n",
      "Hello World I am l and I am 22 years old.\n",
      "l 22\n"
     ]
    }
   ],
   "source": [
    "class Data:                                      #parent\n",
    "    def __init__(self,name,age):\n",
    "        self.name = name\n",
    "        self.age = age\n",
    "        \n",
    "    def data(self):\n",
    "        print(f\"{self.name} {self.age}\")\n",
    "    \n",
    "class Info(Data):                              #child\n",
    "    def __init__(self,name,age,add):\n",
    "        self.add = add\n",
    "        Data.__init__(self,name,age)\n",
    "    \n",
    "    def info(self):\n",
    "        print(f\"Hello World I am {self.name} and I am {self.age} years old.\")\n",
    "\n",
    "        \n",
    "        \n",
    "name = input(\"Enter name = \")\n",
    "age = int(input(\"Enter age = \"))\n",
    "phone = int(input(\"Enter phone = \"))\n",
    "        \n",
    "        \n",
    "obj = Info(name,age,phone)\n",
    "obj.info()\n",
    "print(obj.name,obj.age)\n",
    "\n",
    "    "
   ]
  },
  {
   "cell_type": "code",
   "execution_count": 12,
   "id": "6c5c3d5a",
   "metadata": {},
   "outputs": [],
   "source": [
    "# multi-level\n",
    "# class A:\n",
    "#     pass\n",
    "\n",
    "# class B(A):\n",
    "#     pass\n",
    "\n",
    "# class C(B):\n",
    "#     pass\n",
    "\n",
    "#obj = C()\n",
    "\n"
   ]
  },
  {
   "cell_type": "code",
   "execution_count": 13,
   "id": "46ecf37f",
   "metadata": {},
   "outputs": [],
   "source": [
    "# multiple\n",
    "# class A:\n",
    "#     pass\n",
    "\n",
    "# class B:\n",
    "#     pass\n",
    "\n",
    "# class C(A,B):\n",
    "#     pass\n",
    "\n",
    "#obj = C()\n",
    "\n"
   ]
  },
  {
   "cell_type": "code",
   "execution_count": 14,
   "id": "101e72f1",
   "metadata": {},
   "outputs": [
    {
     "name": "stdout",
     "output_type": "stream",
     "text": [
      "Enter name = lk\n",
      "Enter age = 22\n",
      "Enter phone = 9865000444\n",
      "Hello World I am lk and I am 22 years old.\n",
      "lk 22\n"
     ]
    }
   ],
   "source": [
    "#multi-level\n",
    "class Age:\n",
    "    def __init__(self,age):\n",
    "        self.age = age\n",
    "    def age(self):\n",
    "        print(f\"Hello WOrld my age is {self.age}\")\n",
    "        \n",
    "class Data (Age):                                      #parent\n",
    "    def __init__(self,name,age):\n",
    "        self.name = name\n",
    "        Age.__init__(self,age)\n",
    "        \n",
    "    def data(self):\n",
    "        print(f\"{self.name} {self.age}\")\n",
    "    \n",
    "class Info(Data):                              #child\n",
    "    def __init__(self,name,age,add):\n",
    "        self.add = add\n",
    "        Data.__init__(self,name,age)\n",
    "    \n",
    "    def info(self):\n",
    "        print(f\"Hello World I am {self.name} and I am {self.age} years old.\")\n",
    "\n",
    "        \n",
    "        \n",
    "name = input(\"Enter name = \")\n",
    "age = int(input(\"Enter age = \"))\n",
    "phone = int(input(\"Enter phone = \"))\n",
    "        \n",
    "        \n",
    "obj = Info(name,age,phone)\n",
    "obj.info()\n",
    "print(obj.name,obj.age)\n",
    "\n",
    "    "
   ]
  },
  {
   "cell_type": "code",
   "execution_count": 15,
   "id": "f4ce5861",
   "metadata": {},
   "outputs": [
    {
     "name": "stdout",
     "output_type": "stream",
     "text": [
      "Enter name = ak\n",
      "Enter age = 22\n",
      "Enter phone = 986500044\n",
      "Hello World I am ak and I am 22 years old.\n",
      "ak 22\n"
     ]
    }
   ],
   "source": [
    "#multiple\n",
    "class Age:\n",
    "    def __init__(self,age):\n",
    "        self.age = age\n",
    "    def age(self):\n",
    "        print(f\"Hello WOrld my age is {self.age}\")\n",
    "        \n",
    "class Data:                                      #parent\n",
    "    def __init__(self,name):\n",
    "        self.name = name\n",
    "        \n",
    "        \n",
    "    def data(self):\n",
    "        print(f\"{self.name}\")\n",
    "    \n",
    "class Info(Data):                              #child\n",
    "    def __init__(self,name,age,add):\n",
    "        self.add = add\n",
    "        Data.__init__(self,name)\n",
    "        Age.__init__(self,age)\n",
    "    \n",
    "    def info(self):\n",
    "        print(f\"Hello World I am {self.name} and I am {self.age} years old.\")\n",
    "\n",
    "        \n",
    "        \n",
    "name = input(\"Enter name = \")\n",
    "age = int(input(\"Enter age = \"))\n",
    "phone = int(input(\"Enter phone = \"))\n",
    "        \n",
    "        \n",
    "obj = Info(name,age,phone)\n",
    "obj.info()\n",
    "print(obj.name,obj.age)\n",
    "\n",
    "    "
   ]
  },
  {
   "cell_type": "code",
   "execution_count": 4,
   "id": "97053b2e",
   "metadata": {},
   "outputs": [
    {
     "name": "stdout",
     "output_type": "stream",
     "text": [
      "Ram\n",
      "45\n"
     ]
    }
   ],
   "source": [
    "# public members \n",
    "class Info:\n",
    "    def __init__(self,name,age):\n",
    "        self.name = name\n",
    "        self.age = age\n",
    "        \n",
    "obj = Info(\"Ram\",45)\n",
    "print(obj.name)\n",
    "print(obj.age)"
   ]
  },
  {
   "cell_type": "code",
   "execution_count": 6,
   "id": "039912b5",
   "metadata": {},
   "outputs": [
    {
     "name": "stdout",
     "output_type": "stream",
     "text": [
      "Ram\n",
      "45\n"
     ]
    }
   ],
   "source": [
    "# protected members \n",
    "class Info:\n",
    "    def __init__(self,name,age):\n",
    "        self._name = name\n",
    "        self._age = age\n",
    "        \n",
    "obj = Info(\"Ram\",45)\n",
    "print(obj._name)\n",
    "print(obj._age)"
   ]
  },
  {
   "cell_type": "code",
   "execution_count": 7,
   "id": "aa7c6204",
   "metadata": {},
   "outputs": [
    {
     "ename": "AttributeError",
     "evalue": "'Info' object has no attribute '__name'",
     "output_type": "error",
     "traceback": [
      "\u001b[1;31m---------------------------------------------------------------------------\u001b[0m",
      "\u001b[1;31mAttributeError\u001b[0m                            Traceback (most recent call last)",
      "\u001b[1;32m~\\AppData\\Local\\Temp\\ipykernel_672\\1751459050.py\u001b[0m in \u001b[0;36m<module>\u001b[1;34m\u001b[0m\n\u001b[0;32m      6\u001b[0m \u001b[1;33m\u001b[0m\u001b[0m\n\u001b[0;32m      7\u001b[0m \u001b[0mobj\u001b[0m \u001b[1;33m=\u001b[0m \u001b[0mInfo\u001b[0m\u001b[1;33m(\u001b[0m\u001b[1;34m\"Ram\"\u001b[0m\u001b[1;33m,\u001b[0m\u001b[1;36m45\u001b[0m\u001b[1;33m)\u001b[0m\u001b[1;33m\u001b[0m\u001b[1;33m\u001b[0m\u001b[0m\n\u001b[1;32m----> 8\u001b[1;33m \u001b[0mprint\u001b[0m\u001b[1;33m(\u001b[0m\u001b[0mobj\u001b[0m\u001b[1;33m.\u001b[0m\u001b[0m__name\u001b[0m\u001b[1;33m)\u001b[0m\u001b[1;33m\u001b[0m\u001b[1;33m\u001b[0m\u001b[0m\n\u001b[0m\u001b[0;32m      9\u001b[0m \u001b[0mprint\u001b[0m\u001b[1;33m(\u001b[0m\u001b[0mobj\u001b[0m\u001b[1;33m.\u001b[0m\u001b[0m__age\u001b[0m\u001b[1;33m)\u001b[0m\u001b[1;33m\u001b[0m\u001b[1;33m\u001b[0m\u001b[0m\n",
      "\u001b[1;31mAttributeError\u001b[0m: 'Info' object has no attribute '__name'"
     ]
    }
   ],
   "source": [
    "#private members \n",
    "class Info:\n",
    "    def __init__(self,name,age):\n",
    "        self.__name = name\n",
    "        self.__age = age\n",
    "        \n",
    "obj = Info(\"Ram\",45)\n",
    "print(obj.__name)\n",
    "print(obj.__age)"
   ]
  },
  {
   "cell_type": "code",
   "execution_count": 9,
   "id": "a1f03776",
   "metadata": {},
   "outputs": [
    {
     "name": "stdout",
     "output_type": "stream",
     "text": [
      "Enter name = ayush\n",
      "Enter age = 22\n"
     ]
    },
    {
     "ename": "AttributeError",
     "evalue": "'Info' object has no attribute 'name'",
     "output_type": "error",
     "traceback": [
      "\u001b[1;31m---------------------------------------------------------------------------\u001b[0m",
      "\u001b[1;31mAttributeError\u001b[0m                            Traceback (most recent call last)",
      "\u001b[1;32m~\\AppData\\Local\\Temp\\ipykernel_672\\38967347.py\u001b[0m in \u001b[0;36m<module>\u001b[1;34m\u001b[0m\n\u001b[0;32m     12\u001b[0m \u001b[1;33m\u001b[0m\u001b[0m\n\u001b[0;32m     13\u001b[0m \u001b[0mobj\u001b[0m \u001b[1;33m=\u001b[0m \u001b[0mInfo\u001b[0m\u001b[1;33m(\u001b[0m\u001b[1;33m)\u001b[0m\u001b[1;33m\u001b[0m\u001b[1;33m\u001b[0m\u001b[0m\n\u001b[1;32m---> 14\u001b[1;33m \u001b[0mobj\u001b[0m\u001b[1;33m.\u001b[0m\u001b[0minfo\u001b[0m\u001b[1;33m(\u001b[0m\u001b[1;33m)\u001b[0m\u001b[1;33m\u001b[0m\u001b[1;33m\u001b[0m\u001b[0m\n\u001b[0m\u001b[0;32m     15\u001b[0m \u001b[0mprint\u001b[0m\u001b[1;33m(\u001b[0m\u001b[0mobj\u001b[0m\u001b[1;33m.\u001b[0m\u001b[0m__name\u001b[0m\u001b[1;33m,\u001b[0m\u001b[0mobj\u001b[0m\u001b[1;33m.\u001b[0m\u001b[0m__age\u001b[0m\u001b[1;33m)\u001b[0m\u001b[1;33m\u001b[0m\u001b[1;33m\u001b[0m\u001b[0m\n",
      "\u001b[1;32m~\\AppData\\Local\\Temp\\ipykernel_672\\38967347.py\u001b[0m in \u001b[0;36minfo\u001b[1;34m(self)\u001b[0m\n\u001b[0;32m      9\u001b[0m \u001b[1;32mclass\u001b[0m \u001b[0mInfo\u001b[0m\u001b[1;33m(\u001b[0m\u001b[0mData\u001b[0m\u001b[1;33m)\u001b[0m\u001b[1;33m:\u001b[0m                              \u001b[1;31m#child\u001b[0m\u001b[1;33m\u001b[0m\u001b[1;33m\u001b[0m\u001b[0m\n\u001b[0;32m     10\u001b[0m     \u001b[1;32mdef\u001b[0m \u001b[0minfo\u001b[0m\u001b[1;33m(\u001b[0m\u001b[0mself\u001b[0m\u001b[1;33m)\u001b[0m\u001b[1;33m:\u001b[0m\u001b[1;33m\u001b[0m\u001b[1;33m\u001b[0m\u001b[0m\n\u001b[1;32m---> 11\u001b[1;33m         \u001b[0mprint\u001b[0m\u001b[1;33m(\u001b[0m\u001b[1;34mf\"Hello World I am {self.name} and I am {self.age} years old.\"\u001b[0m\u001b[1;33m)\u001b[0m\u001b[1;33m\u001b[0m\u001b[1;33m\u001b[0m\u001b[0m\n\u001b[0m\u001b[0;32m     12\u001b[0m \u001b[1;33m\u001b[0m\u001b[0m\n\u001b[0;32m     13\u001b[0m \u001b[0mobj\u001b[0m \u001b[1;33m=\u001b[0m \u001b[0mInfo\u001b[0m\u001b[1;33m(\u001b[0m\u001b[1;33m)\u001b[0m\u001b[1;33m\u001b[0m\u001b[1;33m\u001b[0m\u001b[0m\n",
      "\u001b[1;31mAttributeError\u001b[0m: 'Info' object has no attribute 'name'"
     ]
    }
   ],
   "source": [
    "class Data:                                      #parent\n",
    "    def __init__(self):\n",
    "        self._name = input(\"Enter name = \")\n",
    "        self.__age = int(input(\"Enter age = \"))\n",
    "    def data(self):\n",
    "        print(f\"{self._name} {self.__age}\")\n",
    "    \n",
    "    \n",
    "class Info(Data):                              #child\n",
    "    def info(self):\n",
    "        print(f\"Hello World I am {self.name} and I am {self.age} years old.\")\n",
    "        \n",
    "obj = Info()\n",
    "obj.info()\n",
    "print(obj.name,obj.age)"
   ]
  },
  {
   "cell_type": "code",
   "execution_count": 10,
   "id": "dac77a0d",
   "metadata": {},
   "outputs": [
    {
     "name": "stdout",
     "output_type": "stream",
     "text": [
      "Enter name = ayush\n",
      "Enter age = 22\n",
      "Enter phone = 446191919\n",
      "Hello World I am ayush and I am 22 years old.\n",
      "ayush 22\n"
     ]
    }
   ],
   "source": [
    "class Age:\n",
    "    def __init__(self,age):\n",
    "        self.age = age\n",
    "    def age(self):\n",
    "        print(f\"Hello WOrld my age is {self.__age}\")\n",
    "        \n",
    "class Data:                                      #parent\n",
    "    def __init__(self,name):\n",
    "        self.name = name\n",
    "        \n",
    "        \n",
    "    def data(self):\n",
    "        print(f\"{self.name}\")\n",
    "    \n",
    "class Info(Age,Data):                              #child\n",
    "    def __init__(self,name,age,add):\n",
    "        self.__add = add\n",
    "        Data.__init__(self,name)\n",
    "        Age.__init__(self,age)\n",
    "    \n",
    "    def info(self):\n",
    "        print(f\"Hello World I am {self.name} and I am {self.age} years old.\")\n",
    "\n",
    "        \n",
    "        \n",
    "name = input(\"Enter name = \")\n",
    "age = int(input(\"Enter age = \"))\n",
    "phone = int(input(\"Enter phone = \"))\n",
    "        \n",
    "        \n",
    "obj = Info(name,age,phone)\n",
    "obj.info()\n",
    "print(obj.name,obj.age)\n"
   ]
  },
  {
   "cell_type": "code",
   "execution_count": null,
   "id": "8e8bcdb9",
   "metadata": {},
   "outputs": [],
   "source": []
  }
 ],
 "metadata": {
  "kernelspec": {
   "display_name": "Python 3 (ipykernel)",
   "language": "python",
   "name": "python3"
  },
  "language_info": {
   "codemirror_mode": {
    "name": "ipython",
    "version": 3
   },
   "file_extension": ".py",
   "mimetype": "text/x-python",
   "name": "python",
   "nbconvert_exporter": "python",
   "pygments_lexer": "ipython3",
   "version": "3.9.13"
  }
 },
 "nbformat": 4,
 "nbformat_minor": 5
}
