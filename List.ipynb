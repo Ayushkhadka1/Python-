{
 "cells": [
  {
   "cell_type": "code",
   "execution_count": 2,
   "id": "4e9072ba",
   "metadata": {},
   "outputs": [
    {
     "name": "stdout",
     "output_type": "stream",
     "text": [
      "Apple\n",
      "['Apple', 'Ball', 'Cat', 'Dog']\n",
      "['Apple', 'Cat', 'Egg']\n",
      "<class 'str'>\n"
     ]
    }
   ],
   "source": [
    "a=['Apple','Ball','Cat','Dog','Egg']\n",
    "print(a[0])\n",
    "print(a[0:4])\n",
    "print(a[0:5:2])\n",
    "print(type(a[0]))\n"
   ]
  },
  {
   "cell_type": "code",
   "execution_count": 2,
   "id": "22062320",
   "metadata": {},
   "outputs": [
    {
     "data": {
      "text/plain": [
       "['A', 'p', 'p', 'l', 'e']"
      ]
     },
     "execution_count": 2,
     "metadata": {},
     "output_type": "execute_result"
    }
   ],
   "source": [
    "a=list('Apple')\n",
    "a"
   ]
  },
  {
   "cell_type": "code",
   "execution_count": 3,
   "id": "297e38b3",
   "metadata": {},
   "outputs": [
    {
     "name": "stdout",
     "output_type": "stream",
     "text": [
      "['Apple', 'Ball', 'Cat', 'Dog', 'Egg']\n"
     ]
    }
   ],
   "source": [
    "a=['Apple','Ball','Cat','Dog','Egg']\n",
    "print(a)"
   ]
  },
  {
   "cell_type": "code",
   "execution_count": 5,
   "id": "0bcd19d6",
   "metadata": {},
   "outputs": [
    {
     "name": "stdout",
     "output_type": "stream",
     "text": [
      "[1, 2, 3, 4, 5, 6, 'Apple', 'Ball', 'Cat']\n"
     ]
    }
   ],
   "source": [
    "# + *\n",
    "a=[1,2,3,4,5,6]\n",
    "b=['Apple','Ball','Cat']\n",
    "c=a+b\n",
    "print(c)"
   ]
  },
  {
   "cell_type": "code",
   "execution_count": 6,
   "id": "bbf4c8f6",
   "metadata": {},
   "outputs": [
    {
     "name": "stdout",
     "output_type": "stream",
     "text": [
      "[1, 2, 3, 4, 5, 1, 2, 3, 4, 5]\n"
     ]
    }
   ],
   "source": [
    "a=[1,2,3,4,5]\n",
    "print(a*2)"
   ]
  },
  {
   "cell_type": "code",
   "execution_count": 7,
   "id": "48d3d4a7",
   "metadata": {},
   "outputs": [
    {
     "name": "stdout",
     "output_type": "stream",
     "text": [
      "Apple\n",
      "Ball\n",
      "Cat\n",
      "Dog\n",
      "Egg\n"
     ]
    }
   ],
   "source": [
    "a=['Apple','Ball','Cat','Dog','Egg']\n",
    "for i in a:\n",
    "    print(i)"
   ]
  },
  {
   "cell_type": "code",
   "execution_count": 10,
   "id": "b8ef7422",
   "metadata": {},
   "outputs": [
    {
     "name": "stdout",
     "output_type": "stream",
     "text": [
      "Enter c= 5\n",
      "Enter x=234\n",
      "Enter x=22\n",
      "Enter x=223\n",
      "Enter x=2324\n",
      "Enter x=23242\n",
      "[234, 22, 223, 2324, 23242]\n"
     ]
    }
   ],
   "source": [
    "l=list()\n",
    "c=int(input(\"Enter c= \"))\n",
    "for i in range(c):\n",
    "    x=int(input(\"Enter x=\"))\n",
    "    l=l+[x]\n",
    "print(l)"
   ]
  },
  {
   "cell_type": "code",
   "execution_count": 12,
   "id": "75ca38b5",
   "metadata": {},
   "outputs": [
    {
     "name": "stdout",
     "output_type": "stream",
     "text": [
      "The max value = 23242\n",
      "The min value = 22\n",
      "The sum value = 26045\n",
      "[22, 223, 234, 2324, 23242]\n",
      "[23242, 2324, 234, 223, 22]\n"
     ]
    }
   ],
   "source": [
    "print(\"The max value =\",max(l))\n",
    "print(\"The min value =\",min(l))\n",
    "print(\"The sum value =\",sum(l))\n",
    "l.sort()\n",
    "print(l)\n",
    "l.reverse()\n",
    "print(l)"
   ]
  },
  {
   "cell_type": "code",
   "execution_count": 13,
   "id": "fee58636",
   "metadata": {},
   "outputs": [
    {
     "name": "stdout",
     "output_type": "stream",
     "text": [
      "['ant', 'apple', 'cat', 'zebra']\n"
     ]
    }
   ],
   "source": [
    "a=['zebra','apple','cat','ant']\n",
    "a.sort()\n",
    "print(a)"
   ]
  },
  {
   "cell_type": "code",
   "execution_count": 14,
   "id": "8d86ce0e",
   "metadata": {},
   "outputs": [],
   "source": [
    "# append() insert() extend()"
   ]
  },
  {
   "cell_type": "code",
   "execution_count": 15,
   "id": "5c30422f",
   "metadata": {},
   "outputs": [
    {
     "name": "stdout",
     "output_type": "stream",
     "text": [
      "['Apple', 'Ball']\n"
     ]
    }
   ],
   "source": [
    "a=[]\n",
    "a.append('Apple')\n",
    "a.append('Ball')\n",
    "print(a)"
   ]
  },
  {
   "cell_type": "code",
   "execution_count": 16,
   "id": "c946ed0b",
   "metadata": {},
   "outputs": [
    {
     "name": "stdout",
     "output_type": "stream",
     "text": [
      "Enter c= 2\n",
      "Enter x=33\n",
      "Enter x=44\n",
      "[33, 44]\n"
     ]
    }
   ],
   "source": [
    "l=list()\n",
    "c=int(input(\"Enter c= \"))\n",
    "for i in range(c):\n",
    "    x=int(input(\"Enter x=\"))\n",
    "    l.append(x)\n",
    "print(l)"
   ]
  },
  {
   "cell_type": "code",
   "execution_count": 2,
   "id": "8f8d2f5f",
   "metadata": {},
   "outputs": [
    {
     "data": {
      "text/plain": [
       "['ant', 'Apple', 'apple', 'cat', 'zebra']"
      ]
     },
     "execution_count": 2,
     "metadata": {},
     "output_type": "execute_result"
    }
   ],
   "source": [
    "a=['ant', 'apple', 'cat', 'zebra']\n",
    "a.insert(1,'Apple')\n",
    "a"
   ]
  },
  {
   "cell_type": "code",
   "execution_count": 3,
   "id": "3d021772",
   "metadata": {},
   "outputs": [
    {
     "name": "stdout",
     "output_type": "stream",
     "text": [
      "['ant', 'apple', 'cat', 'zebra', 1, 2, 3, 4, 5]\n"
     ]
    }
   ],
   "source": [
    "a=['ant', 'apple', 'cat', 'zebra']\n",
    "b=[1,2,3,4,5]\n",
    "a.extend(b)\n",
    "print(a)"
   ]
  },
  {
   "cell_type": "code",
   "execution_count": 4,
   "id": "0ce13b92",
   "metadata": {},
   "outputs": [
    {
     "data": {
      "text/plain": [
       "['Ant', 'apple', 'cat', 'zebra']"
      ]
     },
     "execution_count": 4,
     "metadata": {},
     "output_type": "execute_result"
    }
   ],
   "source": [
    "#update\n",
    "a=['ant', 'apple', 'cat', 'zebra']\n",
    "a[0]='Ant'\n",
    "a"
   ]
  },
  {
   "cell_type": "code",
   "execution_count": 7,
   "id": "cf6ed95a",
   "metadata": {},
   "outputs": [
    {
     "data": {
      "text/plain": [
       "['Ant', 'anzila badarni', 'cat', 'zebra']"
      ]
     },
     "execution_count": 7,
     "metadata": {},
     "output_type": "execute_result"
    }
   ],
   "source": [
    "a=['ant', 'apple', 'cat', 'zebra']\n",
    "a[0:2]=['Ant','anzila badarni']\n",
    "a\n"
   ]
  },
  {
   "cell_type": "code",
   "execution_count": 11,
   "id": "f9312297",
   "metadata": {},
   "outputs": [
    {
     "data": {
      "text/plain": [
       "['apple', 'cat', 'zebra']"
      ]
     },
     "execution_count": 11,
     "metadata": {},
     "output_type": "execute_result"
    }
   ],
   "source": [
    "# del remmove() pop()\n",
    "a=['ant', 'apple', 'cat', 'zebra']\n",
    "del a[0]\n",
    "a"
   ]
  },
  {
   "cell_type": "code",
   "execution_count": 12,
   "id": "5f3d5c4e",
   "metadata": {},
   "outputs": [
    {
     "data": {
      "text/plain": [
       "['zebra']"
      ]
     },
     "execution_count": 12,
     "metadata": {},
     "output_type": "execute_result"
    }
   ],
   "source": [
    "a=['ant', 'apple', 'cat', 'zebra']\n",
    "del a[0:3]\n",
    "a"
   ]
  },
  {
   "cell_type": "code",
   "execution_count": 13,
   "id": "7e0e75c2",
   "metadata": {},
   "outputs": [
    {
     "data": {
      "text/plain": [
       "['ant', 'apple', 'zebra']"
      ]
     },
     "execution_count": 13,
     "metadata": {},
     "output_type": "execute_result"
    }
   ],
   "source": [
    "a=['ant', 'apple', 'cat', 'zebra']\n",
    "a.remove('cat')\n",
    "a"
   ]
  },
  {
   "cell_type": "code",
   "execution_count": 14,
   "id": "72924d76",
   "metadata": {},
   "outputs": [
    {
     "name": "stdout",
     "output_type": "stream",
     "text": [
      "Enter name =zebra\n",
      "['ant', 'apple', 'cat']\n"
     ]
    }
   ],
   "source": [
    "a=['ant', 'apple', 'cat', 'zebra','zebra']\n",
    "name=input(\"Enter name =\")\n",
    "c=a.count(name)\n",
    "for i in range(c):\n",
    "    a.remove(name)\n",
    "print(a)"
   ]
  },
  {
   "cell_type": "code",
   "execution_count": 16,
   "id": "dcafa621",
   "metadata": {},
   "outputs": [
    {
     "data": {
      "text/plain": [
       "3"
      ]
     },
     "execution_count": 16,
     "metadata": {},
     "output_type": "execute_result"
    }
   ],
   "source": [
    "a=['ant', 'apple', 'cat', 'zebra','zebra']\n",
    "a.index('zebra')"
   ]
  },
  {
   "cell_type": "code",
   "execution_count": 19,
   "id": "8a6f61f1",
   "metadata": {},
   "outputs": [
    {
     "name": "stdout",
     "output_type": "stream",
     "text": [
      "3\n",
      "4\n"
     ]
    }
   ],
   "source": [
    "a=['ant', 'apple', 'cat', 'zebra','zebra']\n",
    "for i in range(len(a)):\n",
    "    if a[i]=='zebra':\n",
    "        print(i)"
   ]
  },
  {
   "cell_type": "markdown",
   "id": "baedcab6",
   "metadata": {},
   "source": [
    "# List inside list"
   ]
  },
  {
   "cell_type": "code",
   "execution_count": 3,
   "id": "723aed5f",
   "metadata": {},
   "outputs": [
    {
     "name": "stdout",
     "output_type": "stream",
     "text": [
      "3\n",
      "[1, 2, 3]\n",
      "1\n"
     ]
    }
   ],
   "source": [
    "a=[[1,2,3],\n",
    "   [4,5,6],\n",
    "   [7,8,9]]\n",
    "print(len(a))\n",
    "print(a[0])\n",
    "print(a[0][0])"
   ]
  },
  {
   "cell_type": "code",
   "execution_count": 4,
   "id": "2df0c7d1",
   "metadata": {},
   "outputs": [
    {
     "name": "stdout",
     "output_type": "stream",
     "text": [
      "[['Ram', 34, 'Kathmandu'], ['Shyam', 56, 'Bhaktapur'], ['Hari', 78, 'Lalitpur']]\n"
     ]
    }
   ],
   "source": [
    "a=[['Ram',34,'Kathmandu'],\n",
    "   ['Shyam',56,'Bhaktapur'],\n",
    "   ['Hari',78,'Lalitpur']]\n",
    "print(a)"
   ]
  },
  {
   "cell_type": "code",
   "execution_count": 6,
   "id": "c0ad9fb4",
   "metadata": {},
   "outputs": [
    {
     "name": "stdout",
     "output_type": "stream",
     "text": [
      "Ener c=2\n",
      "Ener name=ayush\n",
      "Ener age=22\n",
      "Ener address=chitwan\n",
      "Ener name=anzila badarni\n",
      "Ener age=24\n",
      "Ener address=chitwab\n"
     ]
    },
    {
     "data": {
      "text/plain": [
       "[['ayush', 22, 'chitwan'], ['anzila badarni', 24, 'chitwab']]"
      ]
     },
     "execution_count": 6,
     "metadata": {},
     "output_type": "execute_result"
    }
   ],
   "source": [
    "data=[]\n",
    "c=int(input(\"Ener c=\"))\n",
    "for i in range(c):\n",
    "    name=input(\"Ener name=\")\n",
    "    age=int(input(\"Ener age=\"))\n",
    "    address=input(\"Ener address=\")\n",
    "    data.append([name,age,address])\n",
    "    \n",
    "data\n"
   ]
  },
  {
   "cell_type": "code",
   "execution_count": 8,
   "id": "727bf8ef",
   "metadata": {},
   "outputs": [
    {
     "data": {
      "text/plain": [
       "[['ayush', 22, 'chitwan'], ['anzila suddi', 24, 'chitwab']]"
      ]
     },
     "execution_count": 8,
     "metadata": {},
     "output_type": "execute_result"
    }
   ],
   "source": [
    "# update\n",
    "a=[['ayush', 22, 'chitwan'], ['anzila badarni', 24, 'chitwab']]\n",
    "# a[0]=['anzila suddi','25','chitwan']\n",
    "a[1][0]='anzila suddi'\n",
    "a"
   ]
  },
  {
   "cell_type": "code",
   "execution_count": 9,
   "id": "ceb64e4d",
   "metadata": {},
   "outputs": [
    {
     "data": {
      "text/plain": [
       "[['anzila badarni', 24, 'chitwab']]"
      ]
     },
     "execution_count": 9,
     "metadata": {},
     "output_type": "execute_result"
    }
   ],
   "source": [
    "# delete\n",
    "a=[['ayush', 22, 'chitwan'], ['anzila badarni', 24, 'chitwab']]\n",
    "del a[0]\n",
    "a"
   ]
  },
  {
   "cell_type": "code",
   "execution_count": 10,
   "id": "99047f2e",
   "metadata": {},
   "outputs": [
    {
     "name": "stdout",
     "output_type": "stream",
     "text": [
      "[['anzila badarni', 24, 'chitwab']]\n",
      "['ayush', 22, 'chitwan']\n"
     ]
    }
   ],
   "source": [
    "a=[['ayush', 22, 'chitwan'], ['anzila badarni', 24, 'chitwab']]\n",
    "b=a.pop(0)\n",
    "print(a)\n",
    "print(b)"
   ]
  },
  {
   "cell_type": "code",
   "execution_count": 12,
   "id": "8e483afb",
   "metadata": {},
   "outputs": [
    {
     "name": "stdout",
     "output_type": "stream",
     "text": [
      "[['ayush', 22, 'chitwan'], [24, 'chitwab']]\n",
      "anzila badarni\n"
     ]
    }
   ],
   "source": [
    "a=[['ayush', 22, 'chitwan'], ['anzila badarni', 24, 'chitwab']]\n",
    "b=a[1].pop(0)\n",
    "print(a)\n",
    "print(b)"
   ]
  },
  {
   "cell_type": "code",
   "execution_count": 13,
   "id": "b3b94516",
   "metadata": {},
   "outputs": [
    {
     "data": {
      "text/plain": [
       "[['ayush', 22, 'chitwan', 9865000444],\n",
       " ['anzila badarni', 24, 'chitwab', 9865000444]]"
      ]
     },
     "execution_count": 13,
     "metadata": {},
     "output_type": "execute_result"
    }
   ],
   "source": [
    "a=[['ayush', 22, 'chitwan'], ['anzila badarni', 24, 'chitwab']]\n",
    "a[0].append(9865000444)\n",
    "a[1].append(9865000444)\n",
    "a"
   ]
  },
  {
   "cell_type": "code",
   "execution_count": 16,
   "id": "f094372c",
   "metadata": {},
   "outputs": [
    {
     "name": "stdout",
     "output_type": "stream",
     "text": [
      "Enter name=ayush\n",
      "['ayush', 22, 'chitwan']\n"
     ]
    }
   ],
   "source": [
    "a=[['ayush', 22, 'chitwan'],\n",
    "   ['anzila badarni', 24, 'chitwab'],\n",
    "   ['anzila suddi', 25, 'chitwan']]\n",
    "name=input(\"Enter name=\")\n",
    "for i in a :\n",
    "    if name in i:\n",
    "        print(i)\n",
    "    "
   ]
  },
  {
   "cell_type": "code",
   "execution_count": 3,
   "id": "6a2147dd",
   "metadata": {},
   "outputs": [
    {
     "name": "stdout",
     "output_type": "stream",
     "text": [
      "Enter name=ayush\n",
      "['Ayush', 22, 'Chitwan']\n"
     ]
    }
   ],
   "source": [
    "a=[['Ayush', 22, 'Chitwan'],\n",
    "   ['Anzila badarni', 24, 'Chitwab'],\n",
    "   ['Anzila suddi', 25, 'Chitwan']]\n",
    "name=input(\"Enter name=\")\n",
    "for i in a :\n",
    "    if name.lower()==i[0].lower():\n",
    "        print(i)"
   ]
  },
  {
   "cell_type": "code",
   "execution_count": 5,
   "id": "4858ddee",
   "metadata": {},
   "outputs": [
    {
     "name": "stdout",
     "output_type": "stream",
     "text": [
      "Enter name=Ayush\n",
      "0\n",
      "3\n"
     ]
    }
   ],
   "source": [
    "a=[['Ayush', 22, 'Chitwan'],\n",
    "   ['Anzila badarni', 24, 'Chitwab'],\n",
    "   ['Anzila suddi', 25, 'Chitwan'],\n",
    "   ['Ayush', 22, 'Chitwan']]\n",
    "name=input(\"Enter name=\")\n",
    "for i in range(len(a)) :\n",
    "    if a[i][0]==name:\n",
    "        print(i)"
   ]
  },
  {
   "cell_type": "code",
   "execution_count": 7,
   "id": "41400aba",
   "metadata": {},
   "outputs": [
    {
     "name": "stdout",
     "output_type": "stream",
     "text": [
      "Enter name=ayush\n",
      "0\n",
      "3\n"
     ]
    }
   ],
   "source": [
    "a=[['Ayush', 22, 'Chitwan'],\n",
    "   ['Anzila badarni', 24, 'Chitwab'],\n",
    "   ['Anzila suddi', 25, 'Chitwan'],\n",
    "   ['Ayush', 22, 'Chitwan']]\n",
    "name=input(\"Enter name=\")\n",
    "for i in range(len(a)) :\n",
    "    if a[i][0].lower()==name.lower():\n",
    "        print(i)"
   ]
  },
  {
   "cell_type": "code",
   "execution_count": 10,
   "id": "cfd1e171",
   "metadata": {},
   "outputs": [
    {
     "name": "stdout",
     "output_type": "stream",
     "text": [
      "0\n",
      "1\n",
      "2\n"
     ]
    }
   ],
   "source": [
    "a=[['Ayush', 22, 'Chitwan'],\n",
    "   ['Anzila badarni', 24, 'Chitwab'],\n",
    "   ['Anzila suddi', 25, 'Chitwan'],\n",
    "   ['Ayush', 16, 'Chitwan']]\n",
    "# name=input(\"Enter name=\")\n",
    "for i in range(len(a)) :\n",
    "    if a[i][1]>=18:\n",
    "        print(i)"
   ]
  },
  {
   "cell_type": "code",
   "execution_count": null,
   "id": "a8113634",
   "metadata": {},
   "outputs": [],
   "source": []
  }
 ],
 "metadata": {
  "kernelspec": {
   "display_name": "Python 3 (ipykernel)",
   "language": "python",
   "name": "python3"
  },
  "language_info": {
   "codemirror_mode": {
    "name": "ipython",
    "version": 3
   },
   "file_extension": ".py",
   "mimetype": "text/x-python",
   "name": "python",
   "nbconvert_exporter": "python",
   "pygments_lexer": "ipython3",
   "version": "3.9.13"
  }
 },
 "nbformat": 4,
 "nbformat_minor": 5
}
