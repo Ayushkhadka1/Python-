{
 "cells": [
  {
   "cell_type": "code",
   "execution_count": 1,
   "id": "2fe2908f",
   "metadata": {},
   "outputs": [],
   "source": [
    "# # Tupple\n",
    "# -indexing\n",
    "# =multiple and duplicate value\n",
    "# -ordered\n",
    "# -imutable"
   ]
  },
  {
   "cell_type": "code",
   "execution_count": 2,
   "id": "793bc277",
   "metadata": {},
   "outputs": [
    {
     "name": "stdout",
     "output_type": "stream",
     "text": [
      "<class 'tuple'>\n"
     ]
    }
   ],
   "source": [
    "a=(1,2,3,4,)\n",
    "print(type(a))"
   ]
  },
  {
   "cell_type": "code",
   "execution_count": 3,
   "id": "9d3aad2b",
   "metadata": {},
   "outputs": [
    {
     "name": "stdout",
     "output_type": "stream",
     "text": [
      "<class 'tuple'>\n"
     ]
    }
   ],
   "source": [
    "a=(\"Apple\",)\n",
    "print(type(a))"
   ]
  },
  {
   "cell_type": "code",
   "execution_count": 4,
   "id": "d1afb763",
   "metadata": {},
   "outputs": [
    {
     "name": "stdout",
     "output_type": "stream",
     "text": [
      "(10, 11, 12, 13)\n"
     ]
    }
   ],
   "source": [
    "a=10,11,12,13\n",
    "print(a)"
   ]
  },
  {
   "cell_type": "code",
   "execution_count": 6,
   "id": "c88beb24",
   "metadata": {},
   "outputs": [
    {
     "data": {
      "text/plain": [
       "10"
      ]
     },
     "execution_count": 6,
     "metadata": {},
     "output_type": "execute_result"
    }
   ],
   "source": [
    "a=(10, 11, 12, 13)\n",
    "a[0]"
   ]
  },
  {
   "cell_type": "code",
   "execution_count": 7,
   "id": "fdf1e7c3",
   "metadata": {},
   "outputs": [
    {
     "name": "stdout",
     "output_type": "stream",
     "text": [
      "10\n",
      "(10, 11, 12)\n",
      "(10, 12)\n"
     ]
    }
   ],
   "source": [
    "a=(10, 11, 12, 13)\n",
    "print(a[0])\n",
    "print(a[0:3])\n",
    "print(a[0:3:2])"
   ]
  },
  {
   "cell_type": "code",
   "execution_count": 8,
   "id": "1f6a592a",
   "metadata": {},
   "outputs": [],
   "source": [
    "# in tuple\n",
    "# no create\n",
    "# no update\n",
    "# no delete"
   ]
  },
  {
   "cell_type": "code",
   "execution_count": 10,
   "id": "240747b8",
   "metadata": {},
   "outputs": [
    {
     "name": "stdout",
     "output_type": "stream",
     "text": [
      "Enter c=2\n",
      "Enter x=ayush\n",
      "Enter x=khadka\n",
      "('ayush', 'khadka')\n"
     ]
    }
   ],
   "source": [
    "t=tuple()\n",
    "c=int(input(\"Enter c=\"))\n",
    "for i in range(c):\n",
    "    x=input(\"Enter x=\")\n",
    "    t=t+(x,)\n",
    "    \n",
    "print(t)"
   ]
  },
  {
   "cell_type": "code",
   "execution_count": 11,
   "id": "8f39ad78",
   "metadata": {},
   "outputs": [],
   "source": [
    "# max() min() sum() sorted()\n"
   ]
  },
  {
   "cell_type": "code",
   "execution_count": 14,
   "id": "b56d56f7",
   "metadata": {},
   "outputs": [
    {
     "name": "stdout",
     "output_type": "stream",
     "text": [
      "[167, 234, 345, 4567]\n",
      "(234, 345, 4567, 167)\n"
     ]
    }
   ],
   "source": [
    "a=(234,345,4567,167)\n",
    "print(sorted(a))\n",
    "print(a)"
   ]
  },
  {
   "cell_type": "code",
   "execution_count": 15,
   "id": "af04328d",
   "metadata": {},
   "outputs": [
    {
     "data": {
      "text/plain": [
       "[234, 345, 4567, 167]"
      ]
     },
     "execution_count": 15,
     "metadata": {},
     "output_type": "execute_result"
    }
   ],
   "source": [
    "a=(234,345,4567,167)\n",
    "b=list(a)\n",
    "b"
   ]
  },
  {
   "cell_type": "code",
   "execution_count": 16,
   "id": "f4d663a0",
   "metadata": {},
   "outputs": [
    {
     "data": {
      "text/plain": [
       "(345, 4567, 167)"
      ]
     },
     "execution_count": 16,
     "metadata": {},
     "output_type": "execute_result"
    }
   ],
   "source": [
    "a=(234,345,4567,167)\n",
    "a=list(a)\n",
    "del a[0]\n",
    "a=tuple(a)\n",
    "a"
   ]
  },
  {
   "cell_type": "code",
   "execution_count": null,
   "id": "7f43c2c2",
   "metadata": {},
   "outputs": [],
   "source": []
  }
 ],
 "metadata": {
  "kernelspec": {
   "display_name": "Python 3 (ipykernel)",
   "language": "python",
   "name": "python3"
  },
  "language_info": {
   "codemirror_mode": {
    "name": "ipython",
    "version": 3
   },
   "file_extension": ".py",
   "mimetype": "text/x-python",
   "name": "python",
   "nbconvert_exporter": "python",
   "pygments_lexer": "ipython3",
   "version": "3.9.13"
  }
 },
 "nbformat": 4,
 "nbformat_minor": 5
}
