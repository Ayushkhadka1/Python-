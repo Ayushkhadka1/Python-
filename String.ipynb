{
 "cells": [
  {
   "cell_type": "code",
   "execution_count": 1,
   "id": "841e1727",
   "metadata": {},
   "outputs": [
    {
     "name": "stdout",
     "output_type": "stream",
     "text": [
      "<class 'str'> <class 'str'> <class 'str'>\n"
     ]
    }
   ],
   "source": [
    "# String \n",
    "a='Hello World'\n",
    "b=\"Hello World\"\n",
    "c='''Hello World'''\n",
    "print(type(a),type(b),type(c))"
   ]
  },
  {
   "cell_type": "code",
   "execution_count": 2,
   "id": "2984783d",
   "metadata": {},
   "outputs": [
    {
     "name": "stdout",
     "output_type": "stream",
     "text": [
      "Enter a=12\n",
      "<class 'str'>\n"
     ]
    }
   ],
   "source": [
    "a=input(\"Enter a=\")\n",
    "print(type(a))"
   ]
  },
  {
   "cell_type": "code",
   "execution_count": 5,
   "id": "aba63275",
   "metadata": {},
   "outputs": [
    {
     "name": "stdout",
     "output_type": "stream",
     "text": [
      "Hello World\n"
     ]
    }
   ],
   "source": [
    "# * +\n",
    "a=\"Hello \"\n",
    "b=\"World\"\n",
    "c=a+b\n",
    "print(c)"
   ]
  },
  {
   "cell_type": "code",
   "execution_count": 8,
   "id": "9c3b3870",
   "metadata": {},
   "outputs": [
    {
     "name": "stdout",
     "output_type": "stream",
     "text": [
      "H\n",
      "Hello\n",
      "HloWr\n"
     ]
    }
   ],
   "source": [
    "a=\"Hello World\"\n",
    "print(a[0])\n",
    "print(a[0:5])\n",
    "print(a[0:10:2])"
   ]
  },
  {
   "cell_type": "code",
   "execution_count": 11,
   "id": "0983b423",
   "metadata": {},
   "outputs": [
    {
     "name": "stdout",
     "output_type": "stream",
     "text": [
      "d\n",
      "dlroW olleH\n"
     ]
    }
   ],
   "source": [
    "a=\"Hello World\"\n",
    "print(a[-1])\n",
    "print(a[-1::-1])\n",
    "print(a[::-1])"
   ]
  },
  {
   "cell_type": "code",
   "execution_count": 3,
   "id": "e53ffca0",
   "metadata": {},
   "outputs": [
    {
     "name": "stdout",
     "output_type": "stream",
     "text": [
      "Enter the value a=cat\n",
      "cat is not palindrome\n"
     ]
    }
   ],
   "source": [
    "a=input(\"Enter the value a=\")\n",
    "if a==a[::-1]:\n",
    "    print(a,\"is paalindrome\")\n",
    "else:\n",
    "    print(a,\"is not palindrome\")"
   ]
  },
  {
   "cell_type": "code",
   "execution_count": 8,
   "id": "1ce0d514",
   "metadata": {},
   "outputs": [
    {
     "name": "stdout",
     "output_type": "stream",
     "text": [
      "Enter name=ayush\n",
      "Enter age=23\n",
      "Enter address=chitwan\n",
      "Hello World I am ayush. I am from chitwan.I am 23\n"
     ]
    }
   ],
   "source": [
    "name=input(\"Enter name=\")\n",
    "age=int(input(\"Enter age=\"))\n",
    "add=input(\"Enter address=\")\n",
    "# info=\"Hello World I am \" + name + \" I am from \" + add + \" I am \" + str(age)\n",
    "# print(info)\n",
    "info=f\"Hello World I am {name}. I am from {add}.I am {age}\"\n",
    "print(info)"
   ]
  },
  {
   "cell_type": "code",
   "execution_count": 4,
   "id": "f983cf57",
   "metadata": {},
   "outputs": [
    {
     "name": "stdout",
     "output_type": "stream",
     "text": [
      "Enter n= 2\n",
      "Enter name = momo\n",
      "Enter price = 150\n",
      "Enter quantity = 3\n",
      "Enter name = coke\n",
      "Enter price = 60\n",
      "Enter quantity = 3\n",
      "momo 150 3 450\n",
      "coke 60 3 180\n",
      "\n",
      "THe grand total with vat 13% 711.9\n"
     ]
    }
   ],
   "source": [
    "bill=str()\n",
    "grand_total=0\n",
    "\n",
    "n=int(input(\"Enter n= \"))\n",
    "for i in range(n):\n",
    "    name=input(\"Enter name = \")\n",
    "    price=int(input(\"Enter price = \"))\n",
    "    quantity=int(input(\"Enter quantity = \"))\n",
    "    total=price*quantity\n",
    "    bill=bill+f\"{name} {price} {quantity} {total}\\n\"\n",
    "    grand_total=grand_total+total\n",
    "    \n",
    "print(bill)\n",
    "print(\"THe grand total with vat 13%\",grand_total*1.13)"
   ]
  },
  {
   "cell_type": "code",
   "execution_count": 6,
   "id": "8abc162f",
   "metadata": {},
   "outputs": [
    {
     "name": "stdout",
     "output_type": "stream",
     "text": [
      "Enter name = Ayush\n",
      "yes there is Ayush\n"
     ]
    }
   ],
   "source": [
    "#Search in string\n",
    "a=\"Ram Shyam Hari Gita Sita Radha Ayush\"\n",
    "name=(input(\"Enter name = \"))\n",
    "if name in a:\n",
    "    print(\"yes there is\",name)\n",
    "else:\n",
    "    print(\"thers is no\",name)\n",
    "\n",
    "\n"
   ]
  },
  {
   "cell_type": "code",
   "execution_count": 8,
   "id": "1acb5c85",
   "metadata": {},
   "outputs": [
    {
     "name": "stdout",
     "output_type": "stream",
     "text": [
      "RAM SHYAM HARI GITA SITA RADHA AYUSH\n",
      "Ram Shyam Hari Gita Sita Radha Ayush\n",
      "ram shyam hari gita sita radha ayush\n"
     ]
    }
   ],
   "source": [
    "a=\"Ram Shyam Hari Gita Sita Radha Ayush\"\n",
    "print(a.upper())\n",
    "print(a)\n",
    "print(a.lower())"
   ]
  },
  {
   "cell_type": "code",
   "execution_count": 9,
   "id": "366b9150",
   "metadata": {},
   "outputs": [
    {
     "name": "stdout",
     "output_type": "stream",
     "text": [
      "RAM SHYAM HARI GITA SITA RADHA AYUSH\n"
     ]
    }
   ],
   "source": [
    "a=\"Ram Shyam Hari Gita Sita Radha Ayush\"\n",
    "x=a.upper()\n",
    "print(x)"
   ]
  },
  {
   "cell_type": "code",
   "execution_count": 11,
   "id": "dbfab06b",
   "metadata": {},
   "outputs": [
    {
     "name": "stdout",
     "output_type": "stream",
     "text": [
      "Enter name = Ayush\n",
      "yes there is ayush\n",
      "1\n"
     ]
    }
   ],
   "source": [
    "a=\"Ram Shyam Hari Gita Sita Radha Ayush\".lower()\n",
    "name=input(\"Enter name = \").lower()\n",
    "if name in a:\n",
    "    print(\"yes there is\",name)\n",
    "    print(a.count(name))\n",
    "else:\n",
    "    print(\"thers is no\",name)\n",
    "    "
   ]
  },
  {
   "cell_type": "code",
   "execution_count": 3,
   "id": "d79658e0",
   "metadata": {},
   "outputs": [
    {
     "name": "stdout",
     "output_type": "stream",
     "text": [
      "JELLO WORLD\n"
     ]
    }
   ],
   "source": [
    "#Replace\n",
    "txt=\"Hello World\"\n",
    "x=txt.replace(\"H\",\"J\").upper()\n",
    "print(x)\n"
   ]
  },
  {
   "cell_type": "code",
   "execution_count": 1,
   "id": "8aa737a1",
   "metadata": {},
   "outputs": [
    {
     "data": {
      "text/plain": [
       "['Ram', 'Shyam', 'Hari', 'Gita', 'Sita', 'Radha', 'Ayush']"
      ]
     },
     "execution_count": 1,
     "metadata": {},
     "output_type": "execute_result"
    }
   ],
   "source": [
    "a=\"Ram Shyam Hari Gita Sita Radha Ayush\"\n",
    "a.split()"
   ]
  },
  {
   "cell_type": "code",
   "execution_count": 3,
   "id": "36a7c08b",
   "metadata": {},
   "outputs": [
    {
     "data": {
      "text/plain": [
       "['Ram', 'Shyam', 'Hari', 'Gita', 'Sita', 'Radha', 'Ayush']"
      ]
     },
     "execution_count": 3,
     "metadata": {},
     "output_type": "execute_result"
    }
   ],
   "source": [
    "a=\"Ram-Shyam-Hari-Gita-Sita-Radha-Ayush\"\n",
    "a.split(\"-\")"
   ]
  },
  {
   "cell_type": "code",
   "execution_count": 4,
   "id": "a5a5ce11",
   "metadata": {},
   "outputs": [
    {
     "data": {
      "text/plain": [
       "'Ram Shyama Hari Gita Sita Radha Ayush'"
      ]
     },
     "execution_count": 4,
     "metadata": {},
     "output_type": "execute_result"
    }
   ],
   "source": [
    "a=\"Ram Shyam Hari Gita Sita Radha Ayush\"\n",
    "b=a[4:9]\n",
    "a[0:4] + \"Shyama\" + a[9:]"
   ]
  },
  {
   "cell_type": "code",
   "execution_count": 5,
   "id": "032a1249",
   "metadata": {},
   "outputs": [
    {
     "name": "stdout",
     "output_type": "stream",
     "text": [
      " Shyam Hari Gita Sita Radha Ayush\n"
     ]
    }
   ],
   "source": [
    "a=\"Ram Shyam Hari Gita Sita Radha Ayush\"\n",
    "a=a.replace('Ram','')\n",
    "print(a)"
   ]
  },
  {
   "cell_type": "code",
   "execution_count": null,
   "id": "2f16c812",
   "metadata": {},
   "outputs": [],
   "source": []
  }
 ],
 "metadata": {
  "kernelspec": {
   "display_name": "Python 3 (ipykernel)",
   "language": "python",
   "name": "python3"
  },
  "language_info": {
   "codemirror_mode": {
    "name": "ipython",
    "version": 3
   },
   "file_extension": ".py",
   "mimetype": "text/x-python",
   "name": "python",
   "nbconvert_exporter": "python",
   "pygments_lexer": "ipython3",
   "version": "3.9.13"
  }
 },
 "nbformat": 4,
 "nbformat_minor": 5
}
