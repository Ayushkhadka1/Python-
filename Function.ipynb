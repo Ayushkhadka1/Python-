{
 "cells": [
  {
   "cell_type": "code",
   "execution_count": 1,
   "id": "22cce4dc",
   "metadata": {},
   "outputs": [],
   "source": [
    "# predefined\n",
    "# print() int() float() str() type()"
   ]
  },
  {
   "cell_type": "code",
   "execution_count": 3,
   "id": "3b2f6cde",
   "metadata": {},
   "outputs": [],
   "source": [
    "# def <function_name>():\n",
    "#     <operations>\n",
    "    \n",
    "# <function_name>()"
   ]
  },
  {
   "cell_type": "code",
   "execution_count": 5,
   "id": "aa3d10fb",
   "metadata": {},
   "outputs": [
    {
     "name": "stdout",
     "output_type": "stream",
     "text": [
      "Hello world\n",
      "Hello world\n"
     ]
    }
   ],
   "source": [
    "# function with argument and no return type\n",
    "def hello():      #defined function\n",
    "    print(\"Hello world\")\n",
    "    \n",
    "hello()          #call function\n",
    "hello()"
   ]
  },
  {
   "cell_type": "code",
   "execution_count": 6,
   "id": "9202d4de",
   "metadata": {},
   "outputs": [
    {
     "name": "stdout",
     "output_type": "stream",
     "text": [
      "Enter the l =2\n",
      "Enter the b =3\n",
      "Enter the h =4\n",
      "24\n"
     ]
    }
   ],
   "source": [
    "def cal():\n",
    "    l = int(input(\"Enter the l =\"))        #Local variable\n",
    "    b = int(input(\"Enter the b =\"))        #Local variable\n",
    "    h = int(input(\"Enter the h =\"))        #Local variable\n",
    "    v=l*b*h\n",
    "    print(v)\n",
    "    \n",
    "cal()"
   ]
  },
  {
   "cell_type": "code",
   "execution_count": 7,
   "id": "1dab81b6",
   "metadata": {},
   "outputs": [
    {
     "name": "stdout",
     "output_type": "stream",
     "text": [
      "Enter the l =2\n",
      "Enter the b =3\n",
      "Enter the h =4\n",
      "24\n"
     ]
    }
   ],
   "source": [
    "l = int(input(\"Enter the l =\"))        #Global variable\n",
    "b = int(input(\"Enter the b =\"))        #Global variable\n",
    "h = int(input(\"Enter the h =\"))        #Global variable\n",
    "def cal():\n",
    "    v=l*b*h\n",
    "    print(v)\n",
    "    \n",
    "cal()"
   ]
  },
  {
   "cell_type": "code",
   "execution_count": 9,
   "id": "91b5c142",
   "metadata": {},
   "outputs": [],
   "source": [
    "# function with no argument and no return type\n",
    "# function with argument and no return type\n",
    "# function with no argument and return type\n",
    "# function with argument and return type"
   ]
  },
  {
   "cell_type": "code",
   "execution_count": 10,
   "id": "b42ee2ae",
   "metadata": {},
   "outputs": [
    {
     "name": "stdout",
     "output_type": "stream",
     "text": [
      "Hello World\n"
     ]
    }
   ],
   "source": [
    "# function with argument and no return type\n",
    "#argument\n",
    "def hello(x,y):                #parameter\n",
    "    print(x,y)\n",
    "hello(\"Hello\", \"World\")       #argument"
   ]
  },
  {
   "cell_type": "code",
   "execution_count": 13,
   "id": "99edc38a",
   "metadata": {},
   "outputs": [
    {
     "name": "stdout",
     "output_type": "stream",
     "text": [
      "Enter the l =2\n",
      "Enter the b =3\n",
      "Enter the h =4\n",
      "24\n"
     ]
    }
   ],
   "source": [
    "s def cal(x,y,z):\n",
    "    v=x*y*z\n",
    "    print(v)\n",
    "    \n",
    "l = int(input(\"Enter the l =\"))        #Global variable\n",
    "b = int(input(\"Enter the b =\"))        #Global variable\n",
    "h = int(input(\"Enter the h =\")) \n",
    "cal(l,b,h)"
   ]
  },
  {
   "cell_type": "code",
   "execution_count": 16,
   "id": "08363733",
   "metadata": {},
   "outputs": [
    {
     "name": "stdout",
     "output_type": "stream",
     "text": [
      "Enter the l =2\n",
      "Enter the b =3\n",
      "Enter the h =44\n",
      "The area =  6\n",
      "The volume =  264\n"
     ]
    }
   ],
   "source": [
    "def area(l,b):\n",
    "    a = l*b\n",
    "    return a\n",
    "\n",
    "def volume(l,b,h):\n",
    "    v = area(l,b)*h\n",
    "    return v\n",
    "l = int(input(\"Enter the l =\"))        \n",
    "b = int(input(\"Enter the b =\"))        \n",
    "h = int(input(\"Enter the h =\")) \n",
    "\n",
    "print(\"The area = \",area(l,b))\n",
    "print(\"The volume = \",volume(l,b,h))\n"
   ]
  },
  {
   "cell_type": "code",
   "execution_count": 17,
   "id": "8c7e2023",
   "metadata": {},
   "outputs": [
    {
     "name": "stdout",
     "output_type": "stream",
     "text": [
      "Enter the l =2\n",
      "Enter the b =3\n",
      "Enter the h =4\n",
      "The area =  6\n",
      "The volume =  24\n"
     ]
    }
   ],
   "source": [
    "def area(l,b):\n",
    "    a = l*b\n",
    "    return a\n",
    "\n",
    "def volume(l,b,h):\n",
    "    a=area(l,b)\n",
    "    v = a*h\n",
    "    return a,v\n",
    "l = int(input(\"Enter the l =\"))        \n",
    "b = int(input(\"Enter the b =\"))        \n",
    "h = int(input(\"Enter the h =\")) \n",
    "\n",
    "x,y= volume(l,b,h)\n",
    "print(\"The area = \",x)\n",
    "print(\"The volume = \",y)"
   ]
  },
  {
   "cell_type": "code",
   "execution_count": null,
   "id": "a6124e9a",
   "metadata": {},
   "outputs": [],
   "source": [
    "# Recursive function\n",
    "def hello():\n",
    "    print(\"Hello World\")\n",
    "    hello()\n",
    "    \n",
    "hello()"
   ]
  },
  {
   "cell_type": "code",
   "execution_count": 1,
   "id": "ef5311b8",
   "metadata": {},
   "outputs": [
    {
     "name": "stdout",
     "output_type": "stream",
     "text": [
      "Hello World\n",
      "Enter u for more print = y\n",
      "Hello World\n",
      "Enter u for more print = y\n",
      "Hello World\n",
      "Enter u for more print = y\n",
      "Hello World\n",
      "Enter u for more print = y\n",
      "Hello World\n",
      "Enter u for more print = ayush\n"
     ]
    }
   ],
   "source": [
    "def hello():\n",
    "    print(\"Hello World\")\n",
    "    x = input(\"Enter u for more print = \")\n",
    "    if x == 'y':\n",
    "        hello()\n",
    "    \n",
    "hello()"
   ]
  },
  {
   "cell_type": "code",
   "execution_count": 2,
   "id": "b0016f06",
   "metadata": {},
   "outputs": [
    {
     "name": "stdout",
     "output_type": "stream",
     "text": [
      "3.141592653589793\n"
     ]
    }
   ],
   "source": [
    "import math as m\n",
    "print(m.pi)\n"
   ]
  },
  {
   "cell_type": "code",
   "execution_count": 4,
   "id": "f47fedca",
   "metadata": {},
   "outputs": [
    {
     "data": {
      "text/plain": [
       "100.0"
      ]
     },
     "execution_count": 4,
     "metadata": {},
     "output_type": "execute_result"
    }
   ],
   "source": [
    "a=10\n",
    "b=2\n",
    "m.pow(a,b)"
   ]
  },
  {
   "cell_type": "code",
   "execution_count": 5,
   "id": "ab15d959",
   "metadata": {},
   "outputs": [
    {
     "data": {
      "text/plain": [
       "1.0"
      ]
     },
     "execution_count": 5,
     "metadata": {},
     "output_type": "execute_result"
    }
   ],
   "source": [
    "m.sin(m.pi/2)"
   ]
  },
  {
   "cell_type": "code",
   "execution_count": 6,
   "id": "fcf8c7f3",
   "metadata": {},
   "outputs": [
    {
     "data": {
      "text/plain": [
       "120"
      ]
     },
     "execution_count": 6,
     "metadata": {},
     "output_type": "execute_result"
    }
   ],
   "source": [
    "m.factorial(5)"
   ]
  },
  {
   "cell_type": "code",
   "execution_count": 9,
   "id": "06c36c67",
   "metadata": {},
   "outputs": [
    {
     "name": "stdout",
     "output_type": "stream",
     "text": [
      "4\n"
     ]
    }
   ],
   "source": [
    "# Lambda function\n",
    "x = lambda a:a**2\n",
    "print(x(2))"
   ]
  },
  {
   "cell_type": "code",
   "execution_count": 12,
   "id": "1deec4ec",
   "metadata": {},
   "outputs": [
    {
     "name": "stdout",
     "output_type": "stream",
     "text": [
      "hello world\n"
     ]
    }
   ],
   "source": [
    "x = lambda a:a.lower()\n",
    "print(x(\"Hello World\"))"
   ]
  },
  {
   "cell_type": "code",
   "execution_count": 13,
   "id": "03b1269e",
   "metadata": {},
   "outputs": [
    {
     "name": "stdout",
     "output_type": "stream",
     "text": [
      "6000\n"
     ]
    }
   ],
   "source": [
    "v = lambda l,b,h:l*b*h\n",
    "print(v(10,20,30))"
   ]
  },
  {
   "cell_type": "code",
   "execution_count": 15,
   "id": "189e2159",
   "metadata": {},
   "outputs": [
    {
     "name": "stdout",
     "output_type": "stream",
     "text": [
      "[3, 123]\n",
      "[2, 4, 10, 22]\n"
     ]
    }
   ],
   "source": [
    "Lists = [1,2,3,4,10,123,22]\n",
    "div = list(filter(lambda x:(x%3 == 0),Lists))\n",
    "even = list(filter(lambda x:(x%2 == 0),Lists))\n",
    "\n",
    "print(div)\n",
    "print(even)"
   ]
  },
  {
   "cell_type": "code",
   "execution_count": 16,
   "id": "15c72171",
   "metadata": {},
   "outputs": [
    {
     "name": "stdout",
     "output_type": "stream",
     "text": [
      "['Apple', 'Ball', 'Fish']\n"
     ]
    }
   ],
   "source": [
    "a = ['Apple','Ball','cat','dog','Fish']\n",
    "div = list(filter(lambda x:(x[0].isupper()),a))\n",
    "print(div)"
   ]
  },
  {
   "cell_type": "code",
   "execution_count": 17,
   "id": "40eff942",
   "metadata": {},
   "outputs": [
    {
     "name": "stdout",
     "output_type": "stream",
     "text": [
      "('Apple', 'Ball', 'Fish')\n"
     ]
    }
   ],
   "source": [
    "a = ['Apple','Ball','cat','dog','Fish']\n",
    "div = tuple(filter(lambda x:(x[0].isupper()),a))\n",
    "print(div)"
   ]
  },
  {
   "cell_type": "code",
   "execution_count": 19,
   "id": "73947a6b",
   "metadata": {},
   "outputs": [
    {
     "name": "stdout",
     "output_type": "stream",
     "text": [
      "[1, 8, 27, 64, 1000, 1860867, 10648]\n"
     ]
    }
   ],
   "source": [
    "Lists = [1,2,3,4,10,123,22]\n",
    "new_list = list(map(lambda x:x**3,Lists))\n",
    "print(new_list)"
   ]
  },
  {
   "cell_type": "code",
   "execution_count": 20,
   "id": "3feace24",
   "metadata": {},
   "outputs": [
    {
     "name": "stdout",
     "output_type": "stream",
     "text": [
      "['apple', 'ball', 'cat', 'dog', 'fish']\n"
     ]
    }
   ],
   "source": [
    "a = ['Apple','Ball','cat','dog','Fish']\n",
    "div = list(map(lambda x:x.lower(),a))\n",
    "print(div)"
   ]
  },
  {
   "cell_type": "code",
   "execution_count": 21,
   "id": "860874f8",
   "metadata": {},
   "outputs": [
    {
     "name": "stdout",
     "output_type": "stream",
     "text": [
      "[True, True, False, False, True]\n"
     ]
    }
   ],
   "source": [
    "a = ['Apple','Ball','cat','dog','Fish']\n",
    "div = list(map(lambda x:(x[0].isupper()),a))\n",
    "print(div)"
   ]
  },
  {
   "cell_type": "code",
   "execution_count": 22,
   "id": "86aefdb5",
   "metadata": {},
   "outputs": [
    {
     "name": "stdout",
     "output_type": "stream",
     "text": [
      "['helloworld', 'ayushkhadka', 'ismy', 'name']\n"
     ]
    }
   ],
   "source": [
    "a = [\"hello world\",\"ayush khadka\",\"is my\",\"name\"]\n",
    "div = list(map(lambda x:(x.replace(\" \",\"\")),a))\n",
    "print(div)"
   ]
  },
  {
   "cell_type": "code",
   "execution_count": null,
   "id": "03568839",
   "metadata": {},
   "outputs": [],
   "source": []
  }
 ],
 "metadata": {
  "kernelspec": {
   "display_name": "Python 3 (ipykernel)",
   "language": "python",
   "name": "python3"
  },
  "language_info": {
   "codemirror_mode": {
    "name": "ipython",
    "version": 3
   },
   "file_extension": ".py",
   "mimetype": "text/x-python",
   "name": "python",
   "nbconvert_exporter": "python",
   "pygments_lexer": "ipython3",
   "version": "3.9.13"
  }
 },
 "nbformat": 4,
 "nbformat_minor": 5
}
