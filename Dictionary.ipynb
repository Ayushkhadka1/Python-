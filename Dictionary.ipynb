{
 "cells": [
  {
   "cell_type": "code",
   "execution_count": 1,
   "id": "4939e566",
   "metadata": {},
   "outputs": [],
   "source": [
    "# dictionary\n",
    "# -indexed\n",
    "# -ordered\n",
    "# -multiple and duplicate values\n",
    "# -mutable"
   ]
  },
  {
   "cell_type": "code",
   "execution_count": 2,
   "id": "bfb297fd",
   "metadata": {},
   "outputs": [],
   "source": [
    "d={}\n",
    "# d=dict()\n",
    "# d={<key>:<value>,<key>:<value>,...}"
   ]
  },
  {
   "cell_type": "code",
   "execution_count": 5,
   "id": "574afa1b",
   "metadata": {},
   "outputs": [
    {
     "data": {
      "text/plain": [
       "dict"
      ]
     },
     "execution_count": 5,
     "metadata": {},
     "output_type": "execute_result"
    }
   ],
   "source": [
    "d={'a':\"Apple\",'b':'Ball','c':'Cat'}\n",
    "type(d) "
   ]
  },
  {
   "cell_type": "code",
   "execution_count": 6,
   "id": "87e72279",
   "metadata": {},
   "outputs": [
    {
     "name": "stdout",
     "output_type": "stream",
     "text": [
      "Apple\n",
      "Ball\n",
      "Cat\n"
     ]
    }
   ],
   "source": [
    "d={'a':\"Apple\",'b':'Ball','c':'Cat'}\n",
    "print(d['a'])\n",
    "print(d['b'])\n",
    "print(d['c'])"
   ]
  },
  {
   "cell_type": "code",
   "execution_count": 8,
   "id": "6eb593e6",
   "metadata": {},
   "outputs": [
    {
     "name": "stdout",
     "output_type": "stream",
     "text": [
      "{'a': 'Apple', 'b': 'Ball', 'c': 'Cat'}\n",
      "3\n"
     ]
    }
   ],
   "source": [
    "d={'a':\"Apple\",'b':'Ball','c':'Cat'}\n",
    "print(d)\n",
    "print(len(d))"
   ]
  },
  {
   "cell_type": "code",
   "execution_count": 10,
   "id": "f31ea833",
   "metadata": {},
   "outputs": [
    {
     "name": "stdout",
     "output_type": "stream",
     "text": [
      "{'a': 'Apple', 'b': 'Ball', 'c': 'Cat', 'A': 'Apple'}\n"
     ]
    }
   ],
   "source": [
    "d={'a':\"Apple\",'b':'Ball','c':'Cat','A':'Apple'}\n",
    "print(d)"
   ]
  },
  {
   "cell_type": "code",
   "execution_count": 11,
   "id": "48f16cce",
   "metadata": {},
   "outputs": [
    {
     "name": "stdout",
     "output_type": "stream",
     "text": [
      "{'a': 'Ant', 'b': 'Ball', 'c': 'Cat'}\n"
     ]
    }
   ],
   "source": [
    "d={'a':\"Apple\",'b':'Ball','c':'Cat','a':'Ant'}\n",
    "print(d)"
   ]
  },
  {
   "cell_type": "code",
   "execution_count": 14,
   "id": "f5e60699",
   "metadata": {},
   "outputs": [
    {
     "data": {
      "text/plain": [
       "{'a': 'Apple', 'b': 'Ball', 'cat': 'Cat'}"
      ]
     },
     "execution_count": 14,
     "metadata": {},
     "output_type": "execute_result"
    }
   ],
   "source": [
    "d={}\n",
    "d['a']='Apple'\n",
    "d['b']='Ball'\n",
    "d['cat']='Cat'\n",
    "d"
   ]
  },
  {
   "cell_type": "code",
   "execution_count": 18,
   "id": "8c96e11a",
   "metadata": {},
   "outputs": [
    {
     "name": "stdout",
     "output_type": "stream",
     "text": [
      "Enter c=2\n",
      "Enter name=ayush\n",
      "Enter phone=9865000444\n",
      "Enter name=anzila badarbi\n",
      "Enter phone=9865245957\n",
      "{'ayush': '9865000444', 'anzila badarbi': '9865245957'}\n"
     ]
    }
   ],
   "source": [
    "d={}\n",
    "c=int(input(\"Enter c=\"))\n",
    "for i in range(c):\n",
    "    name = input(\"Enter name=\")\n",
    "    phone = input(\"Enter phone=\")\n",
    "    d[name] = phone\n",
    "print(d)"
   ]
  },
  {
   "cell_type": "code",
   "execution_count": 19,
   "id": "045549ec",
   "metadata": {},
   "outputs": [
    {
     "name": "stdout",
     "output_type": "stream",
     "text": [
      "ayush\n",
      "anzila badarni\n"
     ]
    }
   ],
   "source": [
    "d={'ayush': '9865000444', 'anzila badarni': '9865245957'}\n",
    "for i in d:\n",
    "    print(i)"
   ]
  },
  {
   "cell_type": "code",
   "execution_count": 20,
   "id": "cb36481d",
   "metadata": {},
   "outputs": [
    {
     "name": "stdout",
     "output_type": "stream",
     "text": [
      "9865000444\n",
      "9865245957\n"
     ]
    }
   ],
   "source": [
    "d={'ayush': '9865000444', 'anzila badarni': '9865245957'}\n",
    "for i in d.values():\n",
    "    print(i)"
   ]
  },
  {
   "cell_type": "code",
   "execution_count": 21,
   "id": "cd5e0eaf",
   "metadata": {},
   "outputs": [
    {
     "data": {
      "text/plain": [
       "[('ayush', '9865000444'), ('anzila badarni', '9865245957')]"
      ]
     },
     "execution_count": 21,
     "metadata": {},
     "output_type": "execute_result"
    }
   ],
   "source": [
    "l=[]\n",
    "d={'ayush': '9865000444', 'anzila badarni': '9865245957'}\n",
    "for i in d.items():\n",
    "    l.append(i)\n",
    "l"
   ]
  },
  {
   "cell_type": "code",
   "execution_count": 22,
   "id": "9f26b7e5",
   "metadata": {},
   "outputs": [
    {
     "data": {
      "text/plain": [
       "{'ayush': '9865000444', 'anzila badarni': '9865245957'}"
      ]
     },
     "execution_count": 22,
     "metadata": {},
     "output_type": "execute_result"
    }
   ],
   "source": [
    "dict(l)"
   ]
  },
  {
   "cell_type": "code",
   "execution_count": 23,
   "id": "0afe1051",
   "metadata": {},
   "outputs": [
    {
     "name": "stdout",
     "output_type": "stream",
     "text": [
      "{'ayush': 9845139311, 'anzila badarni': '9865245957'}\n"
     ]
    }
   ],
   "source": [
    "# update\n",
    "d={'ayush': '9865000444', 'anzila badarni': '9865245957'}\n",
    "d['ayush']=9845139311\n",
    "print(d)"
   ]
  },
  {
   "cell_type": "code",
   "execution_count": 24,
   "id": "a7d727db",
   "metadata": {},
   "outputs": [
    {
     "name": "stdout",
     "output_type": "stream",
     "text": [
      "{'anzila badarni': '9865245957'}\n",
      "9865000444\n"
     ]
    }
   ],
   "source": [
    "# del pop()\n",
    "d={'ayush': '9865000444', 'anzila badarni': '9865245957'}\n",
    "e=d.pop('ayush')\n",
    "print(d)\n",
    "print(e)"
   ]
  },
  {
   "cell_type": "code",
   "execution_count": 25,
   "id": "d353793c",
   "metadata": {},
   "outputs": [
    {
     "data": {
      "text/plain": [
       "{'anzila badarni': '9865245957'}"
      ]
     },
     "execution_count": 25,
     "metadata": {},
     "output_type": "execute_result"
    }
   ],
   "source": [
    "d={'ayush': '9865000444', 'anzila badarni': '9865245957'}\n",
    "del d['ayush']\n",
    "d"
   ]
  },
  {
   "cell_type": "code",
   "execution_count": 29,
   "id": "290882af",
   "metadata": {},
   "outputs": [
    {
     "name": "stdout",
     "output_type": "stream",
     "text": [
      "['9865000444', '9845139311']\n",
      "9865000444\n"
     ]
    }
   ],
   "source": [
    "# list inside dictionary\n",
    "d={'ayush': ['9865000444','9845139311'], \n",
    "   'anzila badarni': ['9865245957','9845783220']}\n",
    "print(d['ayush'])\n",
    "print(d['ayush'][0])"
   ]
  },
  {
   "cell_type": "code",
   "execution_count": 30,
   "id": "a2741a3d",
   "metadata": {},
   "outputs": [
    {
     "name": "stdout",
     "output_type": "stream",
     "text": [
      "Enter c=2\n",
      "Enter name=ayush\n",
      "Enter ntc phone=9865000444\n",
      "Enter ncell phone=9805451245\n",
      "Enter name=anzila badarni\n",
      "Enter ntc phone=9865245957\n",
      "Enter ncell phone=9802456132\n",
      "{'ayush': ['9865000444', '9805451245'], 'anzila badarni': ['9865245957', '9802456132']}\n"
     ]
    }
   ],
   "source": [
    "d={}\n",
    "c=int(input(\"Enter c=\"))\n",
    "for i in range(c):\n",
    "    name = input(\"Enter name=\")\n",
    "    ntc_phone = input(\"Enter ntc phone=\")\n",
    "    ncell_phone = input(\"Enter ncell phone=\")\n",
    "    d[name]=[ntc_phone,ncell_phone]\n",
    "print(d)"
   ]
  },
  {
   "cell_type": "code",
   "execution_count": 31,
   "id": "55b93bd0",
   "metadata": {},
   "outputs": [
    {
     "data": {
      "text/plain": [
       "{'ayush': ['9865000444', '9805451245'],\n",
       " 'anzila badarni': ['9865245957', '9802456132'],\n",
       " 'anzila suddi': ['9845139311', '9802561234']}"
      ]
     },
     "execution_count": 31,
     "metadata": {},
     "output_type": "execute_result"
    }
   ],
   "source": [
    "d={'ayush': ['9865000444', '9805451245'], \n",
    "   'anzila badarni': ['9865245957', '9802456132']}\n",
    "d['anzila suddi']=['9845139311','9802561234']\n",
    "d\n"
   ]
  },
  {
   "cell_type": "code",
   "execution_count": 32,
   "id": "ad899fb1",
   "metadata": {},
   "outputs": [
    {
     "data": {
      "text/plain": [
       "{'ayush': ['9845783220', '9805451245'],\n",
       " 'anzila badarni': ['9865245957', '9802456132'],\n",
       " 'anzila suddi': ['9845139311', '9802561234']}"
      ]
     },
     "execution_count": 32,
     "metadata": {},
     "output_type": "execute_result"
    }
   ],
   "source": [
    "d['ayush'][0]='9845783220'\n",
    "d\n"
   ]
  },
  {
   "cell_type": "code",
   "execution_count": 33,
   "id": "e7085d43",
   "metadata": {},
   "outputs": [],
   "source": [
    "# d={'SN':[1,2],\n",
    "#    'product':[momo,coke],\n",
    "#    'rate':[200,100],\n",
    "#    'quantity':[2,4],\n",
    "#    'total':[400,400]}"
   ]
  },
  {
   "cell_type": "code",
   "execution_count": 35,
   "id": "c3a31d93",
   "metadata": {},
   "outputs": [
    {
     "name": "stdout",
     "output_type": "stream",
     "text": [
      "{'sn': 1, 'product': 'momo', 'quantity': 2, 'price': 200, 'total': 400}\n",
      "momo\n"
     ]
    }
   ],
   "source": [
    "# dict inside list\n",
    "l=[{'sn':1,'product':'momo','quantity':2,'price':200,'total':400},\n",
    "   {'sn':2,'product':'coke','quantity':3,'price':100,'total':300}]\n",
    "print(l[0])\n",
    "print(l[0]['product'])"
   ]
  },
  {
   "cell_type": "code",
   "execution_count": 37,
   "id": "6da0e45c",
   "metadata": {},
   "outputs": [
    {
     "name": "stdout",
     "output_type": "stream",
     "text": [
      "{1: {'product': 'momo', 'quantity': 2, 'price': 200, 'total': 400}, 2: {'product': 'coke', 'quantity': 3, 'price': 100, 'total': 300}}\n"
     ]
    }
   ],
   "source": [
    "# dict inside dict\n",
    "d={1:{'product':'momo','quantity':2,'price':200,'total':400},\n",
    "   2:{'product':'coke','quantity':3,'price':100,'total':300}}\n",
    "print(d)"
   ]
  },
  {
   "cell_type": "code",
   "execution_count": 40,
   "id": "528d5719",
   "metadata": {},
   "outputs": [
    {
     "name": "stdout",
     "output_type": "stream",
     "text": [
      "Enter c =2\n",
      "Enter name =momo\n",
      "Enter quantity =2\n",
      "Enter price =200\n",
      "Enter name =coke\n",
      "Enter quantity =2\n",
      "Enter price =100\n",
      "{1: {'product': 'momo', 'quantity': 2, 'price': 200, 'total': 400}, 2: {'product': 'coke', 'quantity': 2, 'price': 100, 'total': 200}}\n"
     ]
    }
   ],
   "source": [
    "bill={}\n",
    "c=int(input(\"Enter c =\"))\n",
    "for i in range(1,c+1):\n",
    "    name=input(\"Enter name =\")\n",
    "    quantity=int(input(\"Enter quantity =\"))\n",
    "    price=int(input(\"Enter price =\"))\n",
    "    total=price*quantity\n",
    "    bill[i]={'product':name,'quantity':quantity,'price':price,'total':total}\n",
    "print(bill)"
   ]
  },
  {
   "cell_type": "code",
   "execution_count": 2,
   "id": "1188fb3b",
   "metadata": {},
   "outputs": [
    {
     "name": "stdout",
     "output_type": "stream",
     "text": [
      "Enter c =2\n",
      "Enter name =momo\n",
      "Enter quantity =2\n",
      "Enter price =200\n",
      "Enter name =coke\n",
      "Enter quantity =3\n",
      "Enter price =100\n",
      "{'sn': [1, 2], 'product': ['momo', 'coke'], 'price': [200, 100], 'quantity': [2, 3], 'total': [400, 300]}\n"
     ]
    }
   ],
   "source": [
    "bill={'sn':[],'product':[],'price':[],'quantity':[],'total':[]}\n",
    "c=int(input(\"Enter c =\"))\n",
    "for i in range(1,c+1):\n",
    "    name=input(\"Enter name =\")\n",
    "    quantity=int(input(\"Enter quantity =\"))\n",
    "    price=int(input(\"Enter price =\"))\n",
    "    total=price*quantity\n",
    "    bill['sn'].append(i)\n",
    "    bill['product'].append(name)\n",
    "    bill['price'].append(price)\n",
    "    bill['quantity'].append(quantity)\n",
    "    bill['total'].append(total)\n",
    "print(bill)"
   ]
  },
  {
   "cell_type": "code",
   "execution_count": 4,
   "id": "b291ae3c",
   "metadata": {},
   "outputs": [
    {
     "name": "stdout",
     "output_type": "stream",
     "text": [
      "Enter c =2\n",
      "Enter name =mom\n",
      "Enter quantity =2\n",
      "Enter price =200\n",
      "Enter name =coke\n",
      "Enter quantity =3\n",
      "Enter price =100\n",
      "[{'sn': 1, 'product': 'mom', 'price': 200, 'quantity': 2, 'total': 400}, {'sn': 2, 'product': 'coke', 'price': 100, 'quantity': 3, 'total': 300}]\n"
     ]
    }
   ],
   "source": [
    "l=[]\n",
    "c=int(input(\"Enter c =\"))\n",
    "for i in range(1,c+1):\n",
    "    name=input(\"Enter name =\")\n",
    "    quantity=int(input(\"Enter quantity =\"))\n",
    "    price=int(input(\"Enter price =\"))\n",
    "    total=price*quantity\n",
    "    d={'sn':i, 'product':name, 'price':price, 'quantity':quantity, 'total':total}\n",
    "    l.append(d)\n",
    "print(l)"
   ]
  },
  {
   "cell_type": "code",
   "execution_count": 2,
   "id": "d53456a3",
   "metadata": {},
   "outputs": [
    {
     "data": {
      "text/plain": [
       "{1: {'physics': {'th': 50, 'pr': 25}}, 2: {'physics': {'th': 50, 'pr': 25}}}"
      ]
     },
     "execution_count": 2,
     "metadata": {},
     "output_type": "execute_result"
    }
   ],
   "source": [
    "d={1:{'physics':{'th':50,'pr':25}},\n",
    "   2:{'physics':{'th':50,'pr':25}}}\n",
    "d"
   ]
  },
  {
   "cell_type": "code",
   "execution_count": null,
   "id": "4f93a196",
   "metadata": {},
   "outputs": [],
   "source": []
  }
 ],
 "metadata": {
  "kernelspec": {
   "display_name": "Python 3 (ipykernel)",
   "language": "python",
   "name": "python3"
  },
  "language_info": {
   "codemirror_mode": {
    "name": "ipython",
    "version": 3
   },
   "file_extension": ".py",
   "mimetype": "text/x-python",
   "name": "python",
   "nbconvert_exporter": "python",
   "pygments_lexer": "ipython3",
   "version": "3.9.13"
  }
 },
 "nbformat": 4,
 "nbformat_minor": 5
}
