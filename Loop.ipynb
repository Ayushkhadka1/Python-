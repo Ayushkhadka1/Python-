{
 "cells": [
  {
   "cell_type": "code",
   "execution_count": null,
   "id": "9da6b666",
   "metadata": {},
   "outputs": [],
   "source": [
    "# loop\n",
    "# for loop\n",
    "# while\n"
   ]
  },
  {
   "cell_type": "code",
   "execution_count": null,
   "id": "2afc48f5",
   "metadata": {},
   "outputs": [],
   "source": [
    "# for loop\n",
    "# range(5)         (0,1,2,3,4) for(i=0; i<5; i++)\n",
    "# range(1,5)       (1,2,3,4) for(i=1; i<5; i++)\n",
    "# range(1,5,2)     (1,3) for(i=1; i<5; i=i+2)"
   ]
  },
  {
   "cell_type": "code",
   "execution_count": 1,
   "id": "ed3e9979",
   "metadata": {},
   "outputs": [
    {
     "name": "stdout",
     "output_type": "stream",
     "text": [
      "Hello World\n",
      "Hello World\n",
      "Hello World\n",
      "Hello World\n",
      "Hello World\n"
     ]
    }
   ],
   "source": [
    "for i in range(5):\n",
    "    print(\"Hello World\")"
   ]
  },
  {
   "cell_type": "code",
   "execution_count": 2,
   "id": "4340e201",
   "metadata": {},
   "outputs": [
    {
     "name": "stdout",
     "output_type": "stream",
     "text": [
      "1 Hello World\n",
      "2 Hello World\n",
      "3 Hello World\n",
      "4 Hello World\n"
     ]
    }
   ],
   "source": [
    "for i in range(1,5):\n",
    "    print(i,\"Hello World\")\n"
   ]
  },
  {
   "cell_type": "code",
   "execution_count": 3,
   "id": "be08d5fb",
   "metadata": {},
   "outputs": [
    {
     "name": "stdout",
     "output_type": "stream",
     "text": [
      "1 Hello World\n",
      "3 Hello World\n"
     ]
    }
   ],
   "source": [
    "for i in range(1,5,2):\n",
    "    print(i,\"Hello World\")"
   ]
  },
  {
   "cell_type": "code",
   "execution_count": 4,
   "id": "b5e75377",
   "metadata": {},
   "outputs": [
    {
     "name": "stdout",
     "output_type": "stream",
     "text": [
      "5\n",
      "10\n",
      "15\n",
      "20\n",
      "25\n",
      "30\n",
      "35\n",
      "40\n",
      "45\n",
      "50\n"
     ]
    }
   ],
   "source": [
    "n = 5\n",
    "for i in range(1,11):\n",
    "    print(n*i)"
   ]
  },
  {
   "cell_type": "code",
   "execution_count": 5,
   "id": "3cd34697",
   "metadata": {},
   "outputs": [
    {
     "name": "stdout",
     "output_type": "stream",
     "text": [
      "Enter n = 2\n",
      "2 * 1 = 2\n",
      "2 * 2 = 4\n",
      "2 * 3 = 6\n",
      "2 * 4 = 8\n",
      "2 * 5 = 10\n",
      "2 * 6 = 12\n",
      "2 * 7 = 14\n",
      "2 * 8 = 16\n",
      "2 * 9 = 18\n",
      "2 * 10 = 20\n"
     ]
    }
   ],
   "source": [
    "n = int(input(\"Enter n = \"))\n",
    "for i in range(1,11):\n",
    "    print(n,\"*\",i,\"=\",n*i)"
   ]
  },
  {
   "cell_type": "code",
   "execution_count": 15,
   "id": "ecd9fa19",
   "metadata": {},
   "outputs": [
    {
     "name": "stdout",
     "output_type": "stream",
     "text": [
      "Enter c = 2\n",
      "Enter n = 3\n",
      "Enter n = 4\n"
     ]
    }
   ],
   "source": [
    "c = int(input(\"Enter c = \"))\n",
    "for i in range(c):\n",
    "    n = int(input(\"Enter n = \"))\n",
    "    "
   ]
  },
  {
   "cell_type": "code",
   "execution_count": 2,
   "id": "529843a7",
   "metadata": {},
   "outputs": [
    {
     "name": "stdout",
     "output_type": "stream",
     "text": [
      "Enter c = 2\n",
      "Enter money = 200\n",
      "Enter money = 2000\n",
      "2200\n"
     ]
    }
   ],
   "source": [
    "s = 0\n",
    "c = int(input(\"Enter c = \"))\n",
    "for i in range(c):\n",
    "    n = int(input(\"Enter money = \"))\n",
    "    s = s+n\n",
    "print(s)"
   ]
  },
  {
   "cell_type": "code",
   "execution_count": 4,
   "id": "7f2c769a",
   "metadata": {},
   "outputs": [
    {
     "name": "stdout",
     "output_type": "stream",
     "text": [
      "Enter c = 2\n",
      "Enter money = 200\n",
      "200\n",
      "Enter money = 220\n",
      "420\n"
     ]
    }
   ],
   "source": [
    "s = 0\n",
    "c = int(input(\"Enter c = \"))\n",
    "for i in range(c):\n",
    "    n = int(input(\"Enter money = \"))\n",
    "    s = s+n\n",
    "    print(s)"
   ]
  },
  {
   "cell_type": "code",
   "execution_count": 2,
   "id": "5bf78ecc",
   "metadata": {},
   "outputs": [
    {
     "name": "stdout",
     "output_type": "stream",
     "text": [
      "Enter c = 2\n",
      "Enter name = ayush\n",
      "Enter name = khadka\n",
      "ayush\n",
      "khadka\n",
      "\n"
     ]
    }
   ],
   "source": [
    "s = str()\n",
    "# s = \"\"\n",
    "c = int(input(\"Enter c = \"))\n",
    "for i in range(c):\n",
    "    n = input(\"Enter name = \")\n",
    "    s = s+n+\"\\n\"\n",
    "print(s)"
   ]
  },
  {
   "cell_type": "code",
   "execution_count": 1,
   "id": "b2f811cb",
   "metadata": {},
   "outputs": [
    {
     "name": "stdout",
     "output_type": "stream",
     "text": [
      "Enter c = 2\n",
      "Enter name = ayush\n",
      "ayush\n",
      "\n",
      "Enter name = khadka\n",
      "ayush\n",
      "khadka\n",
      "\n"
     ]
    }
   ],
   "source": [
    "s = str()\n",
    "# s = \"\"\n",
    "c = int(input(\"Enter c = \"))\n",
    "for i in range(c):\n",
    "    n = input(\"Enter name = \")\n",
    "    s = s+n+\"\\n\"\n",
    "    print(s)"
   ]
  },
  {
   "cell_type": "code",
   "execution_count": 11,
   "id": "7c567309",
   "metadata": {},
   "outputs": [
    {
     "name": "stdout",
     "output_type": "stream",
     "text": [
      "Enter c = 2\n",
      "Enter name = ayush\n",
      "Enter phone = 986500444\n",
      "Enter name = shyam\n",
      "Enter phone = 9845139311\n",
      "ayush 986500444\n",
      "shyam 9845139311\n",
      "\n"
     ]
    }
   ],
   "source": [
    "s = str()\n",
    "# s = \"\"\n",
    "c = int(input(\"Enter c = \"))\n",
    "for i in range(c):\n",
    "    name = input(\"Enter name = \")\n",
    "    phone = input(\"Enter phone = \")\n",
    "    \n",
    "    s = s + name + \" \"+phone + \"\\n\"\n",
    "print(s)"
   ]
  },
  {
   "cell_type": "code",
   "execution_count": 3,
   "id": "270d87c2",
   "metadata": {},
   "outputs": [
    {
     "name": "stdout",
     "output_type": "stream",
     "text": [
      "Enter c = 2\n",
      "Enter name = ayush\n",
      "Enter phone = 9865000444\n",
      "ayush 9865000444\n",
      "\n",
      "Enter name = shyam\n",
      "Enter phone = 9845193911\n",
      "ayush 9865000444\n",
      "shyam 9845193911\n",
      "\n"
     ]
    }
   ],
   "source": [
    "s = str()\n",
    "# s = \"\"\n",
    "c = int(input(\"Enter c = \"))\n",
    "for i in range(c):\n",
    "    name = input(\"Enter name = \")\n",
    "    phone = input(\"Enter phone = \")\n",
    "    \n",
    "    s = s + name + \" \"+phone + \"\\n\"\n",
    "    print(s)"
   ]
  },
  {
   "cell_type": "code",
   "execution_count": 14,
   "id": "9b092044",
   "metadata": {},
   "outputs": [
    {
     "name": "stdout",
     "output_type": "stream",
     "text": [
      "Enter c = 3\n",
      "6\n"
     ]
    }
   ],
   "source": [
    "#4! = 1*2*3*4\n",
    "s = 1\n",
    "c = int(input(\"Enter c = \"))\n",
    "for i in range(1,c+1):\n",
    "    s = s*i\n",
    "print(s)"
   ]
  },
  {
   "cell_type": "code",
   "execution_count": 5,
   "id": "2b4e7f52",
   "metadata": {},
   "outputs": [
    {
     "name": "stdout",
     "output_type": "stream",
     "text": [
      "Enter c = 2\n",
      "1\n",
      "2\n"
     ]
    }
   ],
   "source": [
    "#4! = 1*2*3*4\n",
    "s = 1\n",
    "c = int(input(\"Enter c = \"))\n",
    "for i in range(1,c+1):\n",
    "    s = s*i\n",
    "    print(s)"
   ]
  },
  {
   "cell_type": "code",
   "execution_count": 1,
   "id": "3f39ebc8",
   "metadata": {},
   "outputs": [
    {
     "name": "stdout",
     "output_type": "stream",
     "text": [
      "Python"
     ]
    }
   ],
   "source": [
    "a=\"Python\"\n",
    "for i in a:\n",
    "    print(i,end=\"\")"
   ]
  },
  {
   "cell_type": "code",
   "execution_count": 3,
   "id": "c1b41506",
   "metadata": {},
   "outputs": [
    {
     "name": "stdout",
     "output_type": "stream",
     "text": [
      "543210"
     ]
    }
   ],
   "source": [
    "for i in range(5,-1,-1):\n",
    "    print(i,end=\"\")"
   ]
  },
  {
   "cell_type": "code",
   "execution_count": 5,
   "id": "74c0a43b",
   "metadata": {},
   "outputs": [
    {
     "data": {
      "text/plain": [
       "'y'"
      ]
     },
     "execution_count": 5,
     "metadata": {},
     "output_type": "execute_result"
    }
   ],
   "source": [
    "a=\"Python\"\n",
    "a[1]"
   ]
  },
  {
   "cell_type": "code",
   "execution_count": 6,
   "id": "6ac58fea",
   "metadata": {},
   "outputs": [
    {
     "name": "stdout",
     "output_type": "stream",
     "text": [
      "P y t h o n "
     ]
    }
   ],
   "source": [
    "a=\"Python\"\n",
    "c=len(a)\n",
    "for i in range(c):\n",
    "    print(a[i],end=\" \")"
   ]
  },
  {
   "cell_type": "code",
   "execution_count": 7,
   "id": "623f4e6b",
   "metadata": {},
   "outputs": [
    {
     "name": "stdout",
     "output_type": "stream",
     "text": [
      "n o h t y P "
     ]
    }
   ],
   "source": [
    "a=\"Python\"\n",
    "c=len(a)\n",
    "for i in range(c-1,-1,-1):\n",
    "    print(a[i],end=\" \")"
   ]
  },
  {
   "cell_type": "code",
   "execution_count": 9,
   "id": "19f76c49",
   "metadata": {},
   "outputs": [
    {
     "name": "stdout",
     "output_type": "stream",
     "text": [
      "Helloworldiampython"
     ]
    }
   ],
   "source": [
    "a=\"Hello world i am python\"\n",
    "for i in a:\n",
    "    if i != \" \":\n",
    "        print(i,end=\"\")"
   ]
  },
  {
   "cell_type": "code",
   "execution_count": 11,
   "id": "2bdc0bd2",
   "metadata": {},
   "outputs": [
    {
     "name": "stdout",
     "output_type": "stream",
     "text": [
      "Helloworldiampython"
     ]
    }
   ],
   "source": [
    "a=\"Hello world i am python.\"\n",
    "for i in a:\n",
    "    if i != \" \" and i !=\".\":\n",
    "        print(i,end=\"\")"
   ]
  },
  {
   "cell_type": "code",
   "execution_count": 12,
   "id": "e69eff86",
   "metadata": {},
   "outputs": [
    {
     "name": "stdout",
     "output_type": "stream",
     "text": [
      "Hello world i am python."
     ]
    }
   ],
   "source": [
    "a=\"Hello world i am python.\"\n",
    "for i in a:\n",
    "    if (i != \" \") or (i !=\".\"):\n",
    "        print(i,end=\"\")"
   ]
  },
  {
   "cell_type": "code",
   "execution_count": null,
   "id": "57fa6fad",
   "metadata": {},
   "outputs": [],
   "source": [
    "# control statements\n",
    "# break\n",
    "# continue\n",
    "# pass"
   ]
  },
  {
   "cell_type": "code",
   "execution_count": 14,
   "id": "89d57363",
   "metadata": {},
   "outputs": [
    {
     "name": "stdout",
     "output_type": "stream",
     "text": [
      "0\n",
      "1\n",
      "2\n",
      "3\n",
      "4\n",
      "5\n",
      "6\n",
      "7\n",
      "8\n",
      "9\n"
     ]
    }
   ],
   "source": [
    "for i in range(10):\n",
    "\n",
    "    print(i)"
   ]
  },
  {
   "cell_type": "code",
   "execution_count": 20,
   "id": "4640beb4",
   "metadata": {},
   "outputs": [
    {
     "name": "stdout",
     "output_type": "stream",
     "text": [
      "01234"
     ]
    }
   ],
   "source": [
    "for i in range(10):\n",
    "    if i ==5:\n",
    "        break\n",
    "    print(i,end=\"\")"
   ]
  },
  {
   "cell_type": "code",
   "execution_count": 17,
   "id": "500074dc",
   "metadata": {},
   "outputs": [
    {
     "name": "stdout",
     "output_type": "stream",
     "text": [
      "Hello world"
     ]
    }
   ],
   "source": [
    "a=\"Hello world.I am Ayush.\"\n",
    "for i in a:\n",
    "    if i==\".\":\n",
    "        break\n",
    "    print(i,end=\"\")"
   ]
  },
  {
   "cell_type": "code",
   "execution_count": 19,
   "id": "d021ca3c",
   "metadata": {},
   "outputs": [
    {
     "name": "stdout",
     "output_type": "stream",
     "text": [
      "012346789"
     ]
    }
   ],
   "source": [
    "for i in range(10):\n",
    "    if i ==5:\n",
    "        continue\n",
    "    print(i,end=\"\")"
   ]
  },
  {
   "cell_type": "code",
   "execution_count": 21,
   "id": "649484c6",
   "metadata": {},
   "outputs": [
    {
     "name": "stdout",
     "output_type": "stream",
     "text": [
      "Hello worldI am Ayush"
     ]
    }
   ],
   "source": [
    "a=\"Hello world.I am Ayush.\"\n",
    "for i in a:\n",
    "    if i==\".\":\n",
    "        continue\n",
    "    print(i,end=\"\")"
   ]
  },
  {
   "cell_type": "code",
   "execution_count": 22,
   "id": "a19a3393",
   "metadata": {},
   "outputs": [
    {
     "name": "stdout",
     "output_type": "stream",
     "text": [
      "Hello world."
     ]
    }
   ],
   "source": [
    "a=\"Hello world.I am Ayush.\"\n",
    "for i in a:\n",
    "    if i==\".\":\n",
    "        print(i,end=\"\")\n",
    "        break\n",
    "    print(i,end=\"\")"
   ]
  },
  {
   "cell_type": "code",
   "execution_count": 25,
   "id": "73b22a05",
   "metadata": {},
   "outputs": [
    {
     "name": "stdout",
     "output_type": "stream",
     "text": [
      "Enter a number=115\n",
      "The number is composite\n"
     ]
    }
   ],
   "source": [
    "#for else loop\n",
    "n=int(input(\"Enter a number=\"))\n",
    "for i in range(2,n):\n",
    "    if n%i==0:\n",
    "        print(\"The number is composite\")\n",
    "        break\n",
    "else:\n",
    "    print(\"The number is prime\")\n",
    "    \n",
    "            "
   ]
  },
  {
   "cell_type": "code",
   "execution_count": null,
   "id": "a14458c9",
   "metadata": {},
   "outputs": [],
   "source": [
    "# while loop\n",
    "# while <condition>:\n",
    "#     <operation>"
   ]
  },
  {
   "cell_type": "code",
   "execution_count": 4,
   "id": "3c9309d5",
   "metadata": {},
   "outputs": [
    {
     "name": "stdout",
     "output_type": "stream",
     "text": [
      "0 Hello world\n",
      "1 Hello world\n",
      "2 Hello world\n",
      "3 Hello world\n",
      "4 Hello world\n"
     ]
    }
   ],
   "source": [
    "a=0\n",
    "while a<5:\n",
    "    print(a,\"Hello world\")\n",
    "    a=a+1\n",
    "#a+=1"
   ]
  },
  {
   "cell_type": "code",
   "execution_count": 5,
   "id": "c685807c",
   "metadata": {},
   "outputs": [
    {
     "name": "stdout",
     "output_type": "stream",
     "text": [
      "5 Hello world\n",
      "4 Hello world\n",
      "3 Hello world\n",
      "2 Hello world\n",
      "1 Hello world\n",
      "0 Hello world\n"
     ]
    }
   ],
   "source": [
    "a=5\n",
    "while a>=0:\n",
    "    print(a,\"Hello world\")\n",
    "    a=a-1"
   ]
  },
  {
   "cell_type": "code",
   "execution_count": 6,
   "id": "54d55403",
   "metadata": {},
   "outputs": [
    {
     "name": "stdout",
     "output_type": "stream",
     "text": [
      "0 Hello world\n",
      "0.5 Hello world\n",
      "1.0 Hello world\n",
      "1.5 Hello world\n",
      "2.0 Hello world\n",
      "2.5 Hello world\n",
      "3.0 Hello world\n",
      "3.5 Hello world\n",
      "4.0 Hello world\n",
      "4.5 Hello world\n"
     ]
    }
   ],
   "source": [
    "a=0\n",
    "while a<5:\n",
    "    print(a,\"Hello world\")\n",
    "    a=a+0.5"
   ]
  },
  {
   "cell_type": "code",
   "execution_count": 1,
   "id": "ccb02236",
   "metadata": {},
   "outputs": [
    {
     "name": "stdout",
     "output_type": "stream",
     "text": [
      "Enter n=5\n",
      "5 * 1 = 5\n",
      "5 * 2 = 10\n",
      "5 * 3 = 15\n",
      "5 * 4 = 20\n",
      "5 * 5 = 25\n",
      "5 * 6 = 30\n",
      "5 * 7 = 35\n",
      "5 * 8 = 40\n",
      "5 * 9 = 45\n",
      "5 * 10 = 50\n"
     ]
    }
   ],
   "source": [
    "i=1\n",
    "n=int(input(\"Enter n=\"))\n",
    "while i<=10:\n",
    "    print(n,\"*\",i,\"=\",n*i)\n",
    "    i=i+1"
   ]
  },
  {
   "cell_type": "code",
   "execution_count": 4,
   "id": "0ebec4aa",
   "metadata": {},
   "outputs": [
    {
     "name": "stdout",
     "output_type": "stream",
     "text": [
      "Enter c = 3\n",
      "Enter money = 200\n",
      "Enter money = 200\n",
      "Enter money = 200\n",
      "600\n"
     ]
    }
   ],
   "source": [
    "s = 0\n",
    "i=0\n",
    "c = int(input(\"Enter c = \"))\n",
    "while i<c: \n",
    "    n = int(input(\"Enter money = \"))\n",
    "    s = s+n\n",
    "    i=i+1\n",
    "print(s)"
   ]
  },
  {
   "cell_type": "code",
   "execution_count": 5,
   "id": "470a90ae",
   "metadata": {},
   "outputs": [
    {
     "name": "stdout",
     "output_type": "stream",
     "text": [
      "Enter c = 3\n",
      "Enter name = ayush\n",
      "Enter name = ayush\n",
      "Enter name = ayush\n",
      "ayush\n",
      "ayush\n",
      "ayush\n",
      "\n"
     ]
    }
   ],
   "source": [
    "s = str()\n",
    "i=0\n",
    "c = int(input(\"Enter c = \"))\n",
    "while i<c:\n",
    "    n = input(\"Enter name = \")\n",
    "    s = s+n+\"\\n\"\n",
    "    i=i+1\n",
    "print(s)"
   ]
  },
  {
   "cell_type": "code",
   "execution_count": null,
   "id": "8bb77c41",
   "metadata": {},
   "outputs": [],
   "source": [
    "s = str()\n",
    "# s = \"\"\n",
    "i=0\n",
    "c = int(input(\"Enter c = \"))\n",
    "while i<c:\n",
    "    name = input(\"Enter name = \")\n",
    "    phone = input(\"Enter phone = \")\n",
    "    \n",
    "    s = s + name + \" \"+phone + \"\\n\"\n",
    "    i=i+1\n",
    "print(s)"
   ]
  },
  {
   "cell_type": "code",
   "execution_count": 1,
   "id": "b2577c93",
   "metadata": {},
   "outputs": [
    {
     "name": "stdout",
     "output_type": "stream",
     "text": [
      "Enter c = 3\n",
      "6\n"
     ]
    }
   ],
   "source": [
    "#4! = 1*2*3*4\n",
    "s = 1\n",
    "i=1\n",
    "c = int(input(\"Enter c = \"))\n",
    "while i<=c:\n",
    "    s = s*i\n",
    "    i=i+1\n",
    "print(s)"
   ]
  },
  {
   "cell_type": "code",
   "execution_count": 3,
   "id": "6fd4b03d",
   "metadata": {},
   "outputs": [
    {
     "name": "stdout",
     "output_type": "stream",
     "text": [
      "Enter N1 =1\n",
      "Enter N2 =5\n",
      "15\n"
     ]
    }
   ],
   "source": [
    "s=0\n",
    "N1=int(input(\"Enter N1 =\"))\n",
    "N2=int(input(\"Enter N2 =\"))\n",
    "while N1<=N2:\n",
    "    s=s+N1\n",
    "    N1=N1+1\n",
    "print(s)\n",
    "    "
   ]
  },
  {
   "cell_type": "code",
   "execution_count": 4,
   "id": "7185ba87",
   "metadata": {},
   "outputs": [
    {
     "name": "stdout",
     "output_type": "stream",
     "text": [
      "Enter N1 =1\n",
      "Enter N2 =5\n",
      "120\n"
     ]
    }
   ],
   "source": [
    "s=1\n",
    "N1=int(input(\"Enter N1 =\"))\n",
    "N2=int(input(\"Enter N2 =\"))\n",
    "while N1<=N2:\n",
    "    s=s*N1\n",
    "    N1=N1+1\n",
    "print(s)"
   ]
  },
  {
   "cell_type": "code",
   "execution_count": 5,
   "id": "807682e7",
   "metadata": {},
   "outputs": [
    {
     "name": "stdout",
     "output_type": "stream",
     "text": [
      "PYTHON"
     ]
    }
   ],
   "source": [
    "a=\"PYTHON\"\n",
    "l=len(a)\n",
    "i=0\n",
    "while i<l:\n",
    "    print(a[i],end=\"\")\n",
    "    i=i+1"
   ]
  },
  {
   "cell_type": "code",
   "execution_count": 1,
   "id": "71a6f497",
   "metadata": {},
   "outputs": [
    {
     "name": "stdout",
     "output_type": "stream",
     "text": [
      "Hello World I am Python"
     ]
    }
   ],
   "source": [
    "a=\"Hello World I am Python\"\n",
    "l=len(a)\n",
    "i=0\n",
    "while i<l:\n",
    "    if a[i] !=\"\":\n",
    "        print(a[i],end=\"\")\n",
    "        i=i+1"
   ]
  },
  {
   "cell_type": "code",
   "execution_count": 4,
   "id": "58962c25",
   "metadata": {},
   "outputs": [
    {
     "name": "stdout",
     "output_type": "stream",
     "text": [
      "Hello world\n"
     ]
    }
   ],
   "source": [
    "# control statement ni while loop\n",
    "while True:\n",
    "    print(\"Hello world\")\n",
    "    break"
   ]
  },
  {
   "cell_type": "code",
   "execution_count": 5,
   "id": "7df0a8b4",
   "metadata": {},
   "outputs": [
    {
     "name": "stdout",
     "output_type": "stream",
     "text": [
      "0\n",
      "1\n",
      "2\n",
      "3\n",
      "4\n"
     ]
    }
   ],
   "source": [
    "a=0\n",
    "while a<10:\n",
    "    if a==5:\n",
    "        break\n",
    "    print(a)\n",
    "    a+=1"
   ]
  },
  {
   "cell_type": "code",
   "execution_count": 1,
   "id": "1359bfa6",
   "metadata": {},
   "outputs": [
    {
     "name": "stdout",
     "output_type": "stream",
     "text": [
      "0\n",
      "1\n",
      "2\n",
      "3\n",
      "4\n",
      "6\n",
      "7\n",
      "8\n",
      "9\n"
     ]
    }
   ],
   "source": [
    "a=0\n",
    "while a<10:\n",
    "    if a==5:\n",
    "        a+=1\n",
    "        continue\n",
    "    print(a)\n",
    "    a+=1"
   ]
  },
  {
   "cell_type": "code",
   "execution_count": null,
   "id": "1b62ba1a",
   "metadata": {},
   "outputs": [],
   "source": [
    "n=int(input(\"Enter a number=\"))\n",
    "for i in range(2,n):\n",
    "    if n%i==0:\n",
    "        print(\"The number is composite\")\n",
    "        break\n",
    "else:\n",
    "    print(\"The number is prime\")"
   ]
  }
 ],
 "metadata": {
  "kernelspec": {
   "display_name": "Python 3 (ipykernel)",
   "language": "python",
   "name": "python3"
  },
  "language_info": {
   "codemirror_mode": {
    "name": "ipython",
    "version": 3
   },
   "file_extension": ".py",
   "mimetype": "text/x-python",
   "name": "python",
   "nbconvert_exporter": "python",
   "pygments_lexer": "ipython3",
   "version": "3.9.13"
  }
 },
 "nbformat": 4,
 "nbformat_minor": 5
}
